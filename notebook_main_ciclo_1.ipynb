{
 "cells": [
  {
   "cell_type": "markdown",
   "id": "d80133de",
   "metadata": {
    "ExecuteTime": {
     "end_time": "2022-04-04T02:05:06.715516Z",
     "start_time": "2022-04-04T02:05:06.711122Z"
    }
   },
   "source": [
    "# <font color=\"green\"> Library Imports </font>"
   ]
  },
  {
   "cell_type": "code",
   "execution_count": 1,
   "id": "c0c4512f",
   "metadata": {
    "ExecuteTime": {
     "end_time": "2022-05-23T22:56:40.679582Z",
     "start_time": "2022-05-23T22:56:28.946770Z"
    }
   },
   "outputs": [],
   "source": [
    "import pandas as pd\n",
    "import numpy as np\n",
    "import seaborn as sns\n",
    "import random\n",
    "import pickle\n",
    "import inflection\n",
    "import matplotlib.pyplot as plt\n",
    "from scikitplot.metrics import plot_cumulative_gain, plot_lift_curve\n",
    "\n",
    "import psycopg2\n",
    "\n",
    "from sqlalchemy import create_engine\n",
    "from pycorrcat.pycorrcat         import plot_corr, corr_matrix\n",
    "\n",
    "from imblearn.ensemble import BalancedRandomForestClassifier\n",
    "from lightgbm import LGBMClassifier\n",
    "\n",
    "from sklearn.model_selection     import train_test_split, StratifiedKFold, cross_val_score\n",
    "from sklearn.preprocessing       import MinMaxScaler, RobustScaler, LabelEncoder, OrdinalEncoder\n",
    "from sklearn.ensemble            import RandomForestClassifier, ExtraTreesClassifier\n",
    "from sklearn.dummy               import DummyClassifier\n",
    "from sklearn.metrics             import plot_confusion_matrix, plot_precision_recall_curve, plot_roc_curve\n",
    "from sklearn.metrics             import accuracy_score, balanced_accuracy_score, roc_curve, auc, precision_score, f1_score, recall_score, classification_report, plot_confusion_matrix\n",
    "from sklearn.linear_model        import LogisticRegression\n",
    "from sklearn.neighbors           import KNeighborsClassifier\n",
    "\n",
    "from autofeat import AutoFeatClassifier, FeatureSelector\n",
    "\n",
    "import xgboost                   as xgb\n",
    "\n",
    "import scipy.stats               as stats\n",
    "\n",
    "from boruta                      import BorutaPy\n",
    "\n",
    "import warnings"
   ]
  },
  {
   "cell_type": "markdown",
   "id": "8832d434",
   "metadata": {
    "ExecuteTime": {
     "end_time": "2022-04-04T02:05:06.715516Z",
     "start_time": "2022-04-04T02:05:06.711122Z"
    }
   },
   "source": [
    "# <font color=\"green\"> Helper functions </font>"
   ]
  },
  {
   "cell_type": "code",
   "execution_count": 2,
   "id": "fc45cad5",
   "metadata": {
    "ExecuteTime": {
     "end_time": "2022-05-23T22:56:44.586251Z",
     "start_time": "2022-05-23T22:56:44.573959Z"
    }
   },
   "outputs": [],
   "source": [
    "def descriptive_statistics(df):\n",
    "    \n",
    "    df = df.select_dtypes(include=['int64', 'float64'])\n",
    "\n",
    "    # Descriptive statistics\n",
    "\n",
    "    df_descriptive = pd.DataFrame(data=[df.apply(np.min),\n",
    "                                        df.apply(np.max),\n",
    "                                        df.apply(lambda x: np.max(x) - np.min(x)),\n",
    "                                        df.apply(np.mean),\n",
    "                                        df.apply(np.median),\n",
    "                                        df.apply(np.std),\n",
    "                                        df.apply(lambda x: x.skew()),\n",
    "                                        df.apply(lambda x: x.kurtosis())],\n",
    "                                  index=np.array(['min', 'max', 'range', 'mean', 'median', 'std', 'skew', 'kurtosis']))\n",
    "    \n",
    "    return df_descriptive\n",
    "\n",
    "\n",
    "\n",
    "def get_model_metrics(model_name, model, X_train, y_train, X_test, y_test):\n",
    "    \n",
    "    \n",
    "\n",
    "    inst_model = model.fit(X_train, y_train)\n",
    "\n",
    "\n",
    "    y_pred = inst_model.predict(X_test)\n",
    "\n",
    "\n",
    "    # Metrics:\n",
    "\n",
    "\n",
    "\n",
    "    # Accuracy\n",
    "\n",
    "    print('Accuracy: {}\\n'.format(round(accuracy_score(y_test, y_pred),3)))\n",
    "\n",
    "\n",
    "    # Balanced Accuracy\n",
    "\n",
    "    print('Balanced Accuracy: {}\\n'.format(round(balanced_accuracy_score(y_test, y_pred),3)))\n",
    "\n",
    "\n",
    "    # AUC ROC\n",
    "\n",
    "\n",
    "    # fpr, tpr, thresholds = metrics.roc_curve(y_test, y_pred, pos_label=1) <- sintax\n",
    "\n",
    "    fpr, tpr, thresholds = roc_curve(y_test,\n",
    "                                     np.array([i[1] for i in inst_model.predict_proba(X_test)]), \n",
    "                                     pos_label=1)\n",
    "\n",
    "    auc(fpr, tpr)\n",
    "\n",
    "    print('AUC-ROC: {}\\n'.format(round(auc(fpr, tpr),3)))\n",
    "\n",
    "\n",
    "    # Classification report\n",
    "\n",
    "    print('Classification report:\\n\\n {}\\n'.format(classification_report(y_test, y_pred)))\n",
    "\n",
    "\n",
    "    # Gathering metrics for this estimator\n",
    "\n",
    "    inst_model_accuracy = accuracy_score(y_test, y_pred)\n",
    "\n",
    "    inst_model_bal_accuracy = balanced_accuracy_score(y_test, y_pred)\n",
    "\n",
    "    inst_model_auc = auc(fpr, tpr)\n",
    "\n",
    "    inst_model_precision = precision_score(y_test, y_pred)\n",
    "\n",
    "    inst_model_f1 = f1_score(y_test, y_pred)\n",
    "\n",
    "    inst_model_recall = recall_score(y_test, y_pred)\n",
    "    \n",
    "    \n",
    "    \n",
    "    # Getting df\n",
    "    \n",
    "    \n",
    "    df = pd.DataFrame(data=[model_name, inst_model_accuracy,\n",
    "                            inst_model_bal_accuracy, \n",
    "                            inst_model_auc, \n",
    "                            inst_model_precision, \n",
    "                            inst_model_f1, \n",
    "                            inst_model_recall]).transpose()\n",
    "\n",
    "    df.columns = ['Model name', 'Accuracy', 'Balanced Accuracy', 'AUC', 'Precision', 'F1-score', 'Recall']\n",
    "    \n",
    "    return df  \n",
    "\n",
    "\n",
    "\n",
    "def precision_at_k(X_test, y_test, pred_proba_model, k=1000):\n",
    "    \n",
    "    df_temp = pd.DataFrame()\n",
    "\n",
    "    df_temp['id'] = X_test.index # setting id as column\n",
    "\n",
    "    df_temp['response'] = y_test.tolist() # retrieving 'response' column\n",
    "    \n",
    "    df_temp['score'] = pred_proba_model[:,1].tolist() # creating 'score' column\n",
    "    \n",
    "    df_temp = df_temp[['id', 'score', 'response']]\n",
    "    \n",
    "    df_temp = df_temp.sort_values('score', ascending=False) # sorting by score\n",
    "    \n",
    "    df_temp['k'] = range(1, len(df_temp)+1) # creating 'k' column\n",
    "    \n",
    "    df_temp['precision_at_k'] = df_temp['response'].cumsum() / df_temp['k'] # calculating precision at k for each row\n",
    "    \n",
    "    return df_temp.loc[df_temp['k']==k, 'precision_at_k'].values[0] # selecting precision at k\n",
    "\n",
    "\n",
    "\n",
    "def recall_at_k(X_test, y_test, pred_proba_model, k=1000):\n",
    "    \n",
    "    df_temp = pd.DataFrame()\n",
    "\n",
    "    df_temp['id'] = X_test.index # setting id as column\n",
    "\n",
    "    df_temp['response'] = y_test.tolist() # retrieving 'response' column\n",
    "    \n",
    "    df_temp['score'] = pred_proba_model[:,1].tolist() # creating 'score' column\n",
    "    \n",
    "    df_temp = df_temp[['id', 'score', 'response']]\n",
    "    \n",
    "    df_temp = df_temp.sort_values('score', ascending=False) # sorting by score\n",
    "    \n",
    "    df_temp['k'] = range(1, len(df_temp)+1) # creating 'k' column\n",
    "    \n",
    "    df_temp['recall_at_k'] = df_temp['response'].cumsum() / df_temp['response'].sum() # calculating recall at k for each row\n",
    "    \n",
    "    return df_temp.loc[df_temp['k']==k, 'recall_at_k'].values[0] # selecting precision at k\n",
    "\n",
    "\n",
    "\n",
    "def jupyter_settings():\n",
    "    \n",
    "    pd.options.display.max_columns = None   \n",
    "    \n",
    "\n",
    "\n",
    "warnings.filterwarnings(\"ignore\")\n",
    "jupyter_settings()"
   ]
  },
  {
   "cell_type": "markdown",
   "id": "a7fb1273",
   "metadata": {
    "ExecuteTime": {
     "end_time": "2022-04-04T02:15:14.271780Z",
     "start_time": "2022-04-04T02:15:14.269408Z"
    }
   },
   "source": [
    "# 1.0 Data import and basic inspection"
   ]
  },
  {
   "cell_type": "markdown",
   "id": "0f722444",
   "metadata": {
    "ExecuteTime": {
     "end_time": "2022-04-04T02:05:06.715516Z",
     "start_time": "2022-04-04T02:05:06.711122Z"
    }
   },
   "source": [
    "## <font color=\"gray\"> 1.1 Data loading and checking </font>"
   ]
  },
  {
   "cell_type": "code",
   "execution_count": 3,
   "id": "dc8b1211",
   "metadata": {
    "ExecuteTime": {
     "end_time": "2022-05-23T22:56:48.166569Z",
     "start_time": "2022-05-23T22:56:48.115877Z"
    }
   },
   "outputs": [
    {
     "data": {
      "text/html": [
       "<div>\n",
       "<style scoped>\n",
       "    .dataframe tbody tr th:only-of-type {\n",
       "        vertical-align: middle;\n",
       "    }\n",
       "\n",
       "    .dataframe tbody tr th {\n",
       "        vertical-align: top;\n",
       "    }\n",
       "\n",
       "    .dataframe thead th {\n",
       "        text-align: right;\n",
       "    }\n",
       "</style>\n",
       "<table border=\"1\" class=\"dataframe\">\n",
       "  <thead>\n",
       "    <tr style=\"text-align: right;\">\n",
       "      <th></th>\n",
       "      <th>RowNumber</th>\n",
       "      <th>CustomerId</th>\n",
       "      <th>Surname</th>\n",
       "      <th>CreditScore</th>\n",
       "      <th>Geography</th>\n",
       "      <th>Gender</th>\n",
       "      <th>Age</th>\n",
       "      <th>Tenure</th>\n",
       "      <th>Balance</th>\n",
       "      <th>NumOfProducts</th>\n",
       "      <th>HasCrCard</th>\n",
       "      <th>IsActiveMember</th>\n",
       "      <th>EstimatedSalary</th>\n",
       "      <th>Exited</th>\n",
       "    </tr>\n",
       "  </thead>\n",
       "  <tbody>\n",
       "    <tr>\n",
       "      <th>0</th>\n",
       "      <td>1</td>\n",
       "      <td>15634602</td>\n",
       "      <td>Hargrave</td>\n",
       "      <td>619</td>\n",
       "      <td>France</td>\n",
       "      <td>Female</td>\n",
       "      <td>42</td>\n",
       "      <td>2</td>\n",
       "      <td>0.00</td>\n",
       "      <td>1</td>\n",
       "      <td>1</td>\n",
       "      <td>1</td>\n",
       "      <td>101348.88</td>\n",
       "      <td>1</td>\n",
       "    </tr>\n",
       "    <tr>\n",
       "      <th>1</th>\n",
       "      <td>2</td>\n",
       "      <td>15647311</td>\n",
       "      <td>Hill</td>\n",
       "      <td>608</td>\n",
       "      <td>Spain</td>\n",
       "      <td>Female</td>\n",
       "      <td>41</td>\n",
       "      <td>1</td>\n",
       "      <td>83807.86</td>\n",
       "      <td>1</td>\n",
       "      <td>0</td>\n",
       "      <td>1</td>\n",
       "      <td>112542.58</td>\n",
       "      <td>0</td>\n",
       "    </tr>\n",
       "    <tr>\n",
       "      <th>2</th>\n",
       "      <td>3</td>\n",
       "      <td>15619304</td>\n",
       "      <td>Onio</td>\n",
       "      <td>502</td>\n",
       "      <td>France</td>\n",
       "      <td>Female</td>\n",
       "      <td>42</td>\n",
       "      <td>8</td>\n",
       "      <td>159660.80</td>\n",
       "      <td>3</td>\n",
       "      <td>1</td>\n",
       "      <td>0</td>\n",
       "      <td>113931.57</td>\n",
       "      <td>1</td>\n",
       "    </tr>\n",
       "    <tr>\n",
       "      <th>3</th>\n",
       "      <td>4</td>\n",
       "      <td>15701354</td>\n",
       "      <td>Boni</td>\n",
       "      <td>699</td>\n",
       "      <td>France</td>\n",
       "      <td>Female</td>\n",
       "      <td>39</td>\n",
       "      <td>1</td>\n",
       "      <td>0.00</td>\n",
       "      <td>2</td>\n",
       "      <td>0</td>\n",
       "      <td>0</td>\n",
       "      <td>93826.63</td>\n",
       "      <td>0</td>\n",
       "    </tr>\n",
       "    <tr>\n",
       "      <th>4</th>\n",
       "      <td>5</td>\n",
       "      <td>15737888</td>\n",
       "      <td>Mitchell</td>\n",
       "      <td>850</td>\n",
       "      <td>Spain</td>\n",
       "      <td>Female</td>\n",
       "      <td>43</td>\n",
       "      <td>2</td>\n",
       "      <td>125510.82</td>\n",
       "      <td>1</td>\n",
       "      <td>1</td>\n",
       "      <td>1</td>\n",
       "      <td>79084.10</td>\n",
       "      <td>0</td>\n",
       "    </tr>\n",
       "    <tr>\n",
       "      <th>...</th>\n",
       "      <td>...</td>\n",
       "      <td>...</td>\n",
       "      <td>...</td>\n",
       "      <td>...</td>\n",
       "      <td>...</td>\n",
       "      <td>...</td>\n",
       "      <td>...</td>\n",
       "      <td>...</td>\n",
       "      <td>...</td>\n",
       "      <td>...</td>\n",
       "      <td>...</td>\n",
       "      <td>...</td>\n",
       "      <td>...</td>\n",
       "      <td>...</td>\n",
       "    </tr>\n",
       "    <tr>\n",
       "      <th>9995</th>\n",
       "      <td>9996</td>\n",
       "      <td>15606229</td>\n",
       "      <td>Obijiaku</td>\n",
       "      <td>771</td>\n",
       "      <td>France</td>\n",
       "      <td>Male</td>\n",
       "      <td>39</td>\n",
       "      <td>5</td>\n",
       "      <td>0.00</td>\n",
       "      <td>2</td>\n",
       "      <td>1</td>\n",
       "      <td>0</td>\n",
       "      <td>96270.64</td>\n",
       "      <td>0</td>\n",
       "    </tr>\n",
       "    <tr>\n",
       "      <th>9996</th>\n",
       "      <td>9997</td>\n",
       "      <td>15569892</td>\n",
       "      <td>Johnstone</td>\n",
       "      <td>516</td>\n",
       "      <td>France</td>\n",
       "      <td>Male</td>\n",
       "      <td>35</td>\n",
       "      <td>10</td>\n",
       "      <td>57369.61</td>\n",
       "      <td>1</td>\n",
       "      <td>1</td>\n",
       "      <td>1</td>\n",
       "      <td>101699.77</td>\n",
       "      <td>0</td>\n",
       "    </tr>\n",
       "    <tr>\n",
       "      <th>9997</th>\n",
       "      <td>9998</td>\n",
       "      <td>15584532</td>\n",
       "      <td>Liu</td>\n",
       "      <td>709</td>\n",
       "      <td>France</td>\n",
       "      <td>Female</td>\n",
       "      <td>36</td>\n",
       "      <td>7</td>\n",
       "      <td>0.00</td>\n",
       "      <td>1</td>\n",
       "      <td>0</td>\n",
       "      <td>1</td>\n",
       "      <td>42085.58</td>\n",
       "      <td>1</td>\n",
       "    </tr>\n",
       "    <tr>\n",
       "      <th>9998</th>\n",
       "      <td>9999</td>\n",
       "      <td>15682355</td>\n",
       "      <td>Sabbatini</td>\n",
       "      <td>772</td>\n",
       "      <td>Germany</td>\n",
       "      <td>Male</td>\n",
       "      <td>42</td>\n",
       "      <td>3</td>\n",
       "      <td>75075.31</td>\n",
       "      <td>2</td>\n",
       "      <td>1</td>\n",
       "      <td>0</td>\n",
       "      <td>92888.52</td>\n",
       "      <td>1</td>\n",
       "    </tr>\n",
       "    <tr>\n",
       "      <th>9999</th>\n",
       "      <td>10000</td>\n",
       "      <td>15628319</td>\n",
       "      <td>Walker</td>\n",
       "      <td>792</td>\n",
       "      <td>France</td>\n",
       "      <td>Female</td>\n",
       "      <td>28</td>\n",
       "      <td>4</td>\n",
       "      <td>130142.79</td>\n",
       "      <td>1</td>\n",
       "      <td>1</td>\n",
       "      <td>0</td>\n",
       "      <td>38190.78</td>\n",
       "      <td>0</td>\n",
       "    </tr>\n",
       "  </tbody>\n",
       "</table>\n",
       "<p>10000 rows × 14 columns</p>\n",
       "</div>"
      ],
      "text/plain": [
       "      RowNumber  CustomerId    Surname  CreditScore Geography  Gender  Age  \\\n",
       "0             1    15634602   Hargrave          619    France  Female   42   \n",
       "1             2    15647311       Hill          608     Spain  Female   41   \n",
       "2             3    15619304       Onio          502    France  Female   42   \n",
       "3             4    15701354       Boni          699    France  Female   39   \n",
       "4             5    15737888   Mitchell          850     Spain  Female   43   \n",
       "...         ...         ...        ...          ...       ...     ...  ...   \n",
       "9995       9996    15606229   Obijiaku          771    France    Male   39   \n",
       "9996       9997    15569892  Johnstone          516    France    Male   35   \n",
       "9997       9998    15584532        Liu          709    France  Female   36   \n",
       "9998       9999    15682355  Sabbatini          772   Germany    Male   42   \n",
       "9999      10000    15628319     Walker          792    France  Female   28   \n",
       "\n",
       "      Tenure    Balance  NumOfProducts  HasCrCard  IsActiveMember  \\\n",
       "0          2       0.00              1          1               1   \n",
       "1          1   83807.86              1          0               1   \n",
       "2          8  159660.80              3          1               0   \n",
       "3          1       0.00              2          0               0   \n",
       "4          2  125510.82              1          1               1   \n",
       "...      ...        ...            ...        ...             ...   \n",
       "9995       5       0.00              2          1               0   \n",
       "9996      10   57369.61              1          1               1   \n",
       "9997       7       0.00              1          0               1   \n",
       "9998       3   75075.31              2          1               0   \n",
       "9999       4  130142.79              1          1               0   \n",
       "\n",
       "      EstimatedSalary  Exited  \n",
       "0           101348.88       1  \n",
       "1           112542.58       0  \n",
       "2           113931.57       1  \n",
       "3            93826.63       0  \n",
       "4            79084.10       0  \n",
       "...               ...     ...  \n",
       "9995         96270.64       0  \n",
       "9996        101699.77       0  \n",
       "9997         42085.58       1  \n",
       "9998         92888.52       1  \n",
       "9999         38190.78       0  \n",
       "\n",
       "[10000 rows x 14 columns]"
      ]
     },
     "execution_count": 3,
     "metadata": {},
     "output_type": "execute_result"
    }
   ],
   "source": [
    "# Data loading\n",
    "\n",
    "df = pd.read_csv('churn.csv')\n",
    "\n",
    "df"
   ]
  },
  {
   "cell_type": "code",
   "execution_count": 4,
   "id": "9186867b",
   "metadata": {
    "ExecuteTime": {
     "end_time": "2022-05-23T22:56:58.024714Z",
     "start_time": "2022-05-23T22:56:58.021651Z"
    }
   },
   "outputs": [],
   "source": [
    "# Adjusting feature names\n",
    "\n",
    "df.columns = list(map(lambda x: inflection.underscore(x), df.columns)) #changing to underscore + lower(snakecase)"
   ]
  },
  {
   "cell_type": "code",
   "execution_count": 5,
   "id": "03c17d50",
   "metadata": {
    "ExecuteTime": {
     "end_time": "2022-05-23T22:56:59.249683Z",
     "start_time": "2022-05-23T22:56:59.246564Z"
    }
   },
   "outputs": [
    {
     "name": "stdout",
     "output_type": "stream",
     "text": [
      "Number of rows: 10000\n",
      "Number of columns: 14\n"
     ]
    }
   ],
   "source": [
    "# Data dimensions\n",
    "\n",
    "print('Number of rows: {}'.format(df.shape[0]))\n",
    "\n",
    "print('Number of columns: {}'.format(df.shape[1]))"
   ]
  },
  {
   "cell_type": "code",
   "execution_count": 6,
   "id": "e1664e95",
   "metadata": {
    "ExecuteTime": {
     "end_time": "2022-05-23T22:57:00.670763Z",
     "start_time": "2022-05-23T22:57:00.655101Z"
    }
   },
   "outputs": [
    {
     "data": {
      "text/html": [
       "<div>\n",
       "<style scoped>\n",
       "    .dataframe tbody tr th:only-of-type {\n",
       "        vertical-align: middle;\n",
       "    }\n",
       "\n",
       "    .dataframe tbody tr th {\n",
       "        vertical-align: top;\n",
       "    }\n",
       "\n",
       "    .dataframe thead th {\n",
       "        text-align: right;\n",
       "    }\n",
       "</style>\n",
       "<table border=\"1\" class=\"dataframe\">\n",
       "  <thead>\n",
       "    <tr style=\"text-align: right;\">\n",
       "      <th></th>\n",
       "      <th>row_number</th>\n",
       "      <th>customer_id</th>\n",
       "      <th>surname</th>\n",
       "      <th>credit_score</th>\n",
       "      <th>geography</th>\n",
       "      <th>gender</th>\n",
       "      <th>age</th>\n",
       "      <th>tenure</th>\n",
       "      <th>balance</th>\n",
       "      <th>num_of_products</th>\n",
       "      <th>has_cr_card</th>\n",
       "      <th>is_active_member</th>\n",
       "      <th>estimated_salary</th>\n",
       "      <th>exited</th>\n",
       "    </tr>\n",
       "  </thead>\n",
       "  <tbody>\n",
       "    <tr>\n",
       "      <th>0</th>\n",
       "      <td>1</td>\n",
       "      <td>15634602</td>\n",
       "      <td>Hargrave</td>\n",
       "      <td>619</td>\n",
       "      <td>France</td>\n",
       "      <td>Female</td>\n",
       "      <td>42</td>\n",
       "      <td>2</td>\n",
       "      <td>0.00</td>\n",
       "      <td>1</td>\n",
       "      <td>1</td>\n",
       "      <td>1</td>\n",
       "      <td>101348.88</td>\n",
       "      <td>1</td>\n",
       "    </tr>\n",
       "    <tr>\n",
       "      <th>1</th>\n",
       "      <td>2</td>\n",
       "      <td>15647311</td>\n",
       "      <td>Hill</td>\n",
       "      <td>608</td>\n",
       "      <td>Spain</td>\n",
       "      <td>Female</td>\n",
       "      <td>41</td>\n",
       "      <td>1</td>\n",
       "      <td>83807.86</td>\n",
       "      <td>1</td>\n",
       "      <td>0</td>\n",
       "      <td>1</td>\n",
       "      <td>112542.58</td>\n",
       "      <td>0</td>\n",
       "    </tr>\n",
       "    <tr>\n",
       "      <th>2</th>\n",
       "      <td>3</td>\n",
       "      <td>15619304</td>\n",
       "      <td>Onio</td>\n",
       "      <td>502</td>\n",
       "      <td>France</td>\n",
       "      <td>Female</td>\n",
       "      <td>42</td>\n",
       "      <td>8</td>\n",
       "      <td>159660.80</td>\n",
       "      <td>3</td>\n",
       "      <td>1</td>\n",
       "      <td>0</td>\n",
       "      <td>113931.57</td>\n",
       "      <td>1</td>\n",
       "    </tr>\n",
       "    <tr>\n",
       "      <th>3</th>\n",
       "      <td>4</td>\n",
       "      <td>15701354</td>\n",
       "      <td>Boni</td>\n",
       "      <td>699</td>\n",
       "      <td>France</td>\n",
       "      <td>Female</td>\n",
       "      <td>39</td>\n",
       "      <td>1</td>\n",
       "      <td>0.00</td>\n",
       "      <td>2</td>\n",
       "      <td>0</td>\n",
       "      <td>0</td>\n",
       "      <td>93826.63</td>\n",
       "      <td>0</td>\n",
       "    </tr>\n",
       "    <tr>\n",
       "      <th>4</th>\n",
       "      <td>5</td>\n",
       "      <td>15737888</td>\n",
       "      <td>Mitchell</td>\n",
       "      <td>850</td>\n",
       "      <td>Spain</td>\n",
       "      <td>Female</td>\n",
       "      <td>43</td>\n",
       "      <td>2</td>\n",
       "      <td>125510.82</td>\n",
       "      <td>1</td>\n",
       "      <td>1</td>\n",
       "      <td>1</td>\n",
       "      <td>79084.10</td>\n",
       "      <td>0</td>\n",
       "    </tr>\n",
       "    <tr>\n",
       "      <th>...</th>\n",
       "      <td>...</td>\n",
       "      <td>...</td>\n",
       "      <td>...</td>\n",
       "      <td>...</td>\n",
       "      <td>...</td>\n",
       "      <td>...</td>\n",
       "      <td>...</td>\n",
       "      <td>...</td>\n",
       "      <td>...</td>\n",
       "      <td>...</td>\n",
       "      <td>...</td>\n",
       "      <td>...</td>\n",
       "      <td>...</td>\n",
       "      <td>...</td>\n",
       "    </tr>\n",
       "    <tr>\n",
       "      <th>9995</th>\n",
       "      <td>9996</td>\n",
       "      <td>15606229</td>\n",
       "      <td>Obijiaku</td>\n",
       "      <td>771</td>\n",
       "      <td>France</td>\n",
       "      <td>Male</td>\n",
       "      <td>39</td>\n",
       "      <td>5</td>\n",
       "      <td>0.00</td>\n",
       "      <td>2</td>\n",
       "      <td>1</td>\n",
       "      <td>0</td>\n",
       "      <td>96270.64</td>\n",
       "      <td>0</td>\n",
       "    </tr>\n",
       "    <tr>\n",
       "      <th>9996</th>\n",
       "      <td>9997</td>\n",
       "      <td>15569892</td>\n",
       "      <td>Johnstone</td>\n",
       "      <td>516</td>\n",
       "      <td>France</td>\n",
       "      <td>Male</td>\n",
       "      <td>35</td>\n",
       "      <td>10</td>\n",
       "      <td>57369.61</td>\n",
       "      <td>1</td>\n",
       "      <td>1</td>\n",
       "      <td>1</td>\n",
       "      <td>101699.77</td>\n",
       "      <td>0</td>\n",
       "    </tr>\n",
       "    <tr>\n",
       "      <th>9997</th>\n",
       "      <td>9998</td>\n",
       "      <td>15584532</td>\n",
       "      <td>Liu</td>\n",
       "      <td>709</td>\n",
       "      <td>France</td>\n",
       "      <td>Female</td>\n",
       "      <td>36</td>\n",
       "      <td>7</td>\n",
       "      <td>0.00</td>\n",
       "      <td>1</td>\n",
       "      <td>0</td>\n",
       "      <td>1</td>\n",
       "      <td>42085.58</td>\n",
       "      <td>1</td>\n",
       "    </tr>\n",
       "    <tr>\n",
       "      <th>9998</th>\n",
       "      <td>9999</td>\n",
       "      <td>15682355</td>\n",
       "      <td>Sabbatini</td>\n",
       "      <td>772</td>\n",
       "      <td>Germany</td>\n",
       "      <td>Male</td>\n",
       "      <td>42</td>\n",
       "      <td>3</td>\n",
       "      <td>75075.31</td>\n",
       "      <td>2</td>\n",
       "      <td>1</td>\n",
       "      <td>0</td>\n",
       "      <td>92888.52</td>\n",
       "      <td>1</td>\n",
       "    </tr>\n",
       "    <tr>\n",
       "      <th>9999</th>\n",
       "      <td>10000</td>\n",
       "      <td>15628319</td>\n",
       "      <td>Walker</td>\n",
       "      <td>792</td>\n",
       "      <td>France</td>\n",
       "      <td>Female</td>\n",
       "      <td>28</td>\n",
       "      <td>4</td>\n",
       "      <td>130142.79</td>\n",
       "      <td>1</td>\n",
       "      <td>1</td>\n",
       "      <td>0</td>\n",
       "      <td>38190.78</td>\n",
       "      <td>0</td>\n",
       "    </tr>\n",
       "  </tbody>\n",
       "</table>\n",
       "<p>10000 rows × 14 columns</p>\n",
       "</div>"
      ],
      "text/plain": [
       "      row_number  customer_id    surname  credit_score geography  gender  age  \\\n",
       "0              1     15634602   Hargrave           619    France  Female   42   \n",
       "1              2     15647311       Hill           608     Spain  Female   41   \n",
       "2              3     15619304       Onio           502    France  Female   42   \n",
       "3              4     15701354       Boni           699    France  Female   39   \n",
       "4              5     15737888   Mitchell           850     Spain  Female   43   \n",
       "...          ...          ...        ...           ...       ...     ...  ...   \n",
       "9995        9996     15606229   Obijiaku           771    France    Male   39   \n",
       "9996        9997     15569892  Johnstone           516    France    Male   35   \n",
       "9997        9998     15584532        Liu           709    France  Female   36   \n",
       "9998        9999     15682355  Sabbatini           772   Germany    Male   42   \n",
       "9999       10000     15628319     Walker           792    France  Female   28   \n",
       "\n",
       "      tenure    balance  num_of_products  has_cr_card  is_active_member  \\\n",
       "0          2       0.00                1            1                 1   \n",
       "1          1   83807.86                1            0                 1   \n",
       "2          8  159660.80                3            1                 0   \n",
       "3          1       0.00                2            0                 0   \n",
       "4          2  125510.82                1            1                 1   \n",
       "...      ...        ...              ...          ...               ...   \n",
       "9995       5       0.00                2            1                 0   \n",
       "9996      10   57369.61                1            1                 1   \n",
       "9997       7       0.00                1            0                 1   \n",
       "9998       3   75075.31                2            1                 0   \n",
       "9999       4  130142.79                1            1                 0   \n",
       "\n",
       "      estimated_salary  exited  \n",
       "0            101348.88       1  \n",
       "1            112542.58       0  \n",
       "2            113931.57       1  \n",
       "3             93826.63       0  \n",
       "4             79084.10       0  \n",
       "...                ...     ...  \n",
       "9995          96270.64       0  \n",
       "9996         101699.77       0  \n",
       "9997          42085.58       1  \n",
       "9998          92888.52       1  \n",
       "9999          38190.78       0  \n",
       "\n",
       "[10000 rows x 14 columns]"
      ]
     },
     "execution_count": 6,
     "metadata": {},
     "output_type": "execute_result"
    }
   ],
   "source": [
    "df"
   ]
  },
  {
   "cell_type": "code",
   "execution_count": 7,
   "id": "32b6edbb",
   "metadata": {
    "ExecuteTime": {
     "end_time": "2022-05-23T22:57:02.143260Z",
     "start_time": "2022-05-23T22:57:02.134069Z"
    }
   },
   "outputs": [
    {
     "name": "stdout",
     "output_type": "stream",
     "text": [
      "<class 'pandas.core.frame.DataFrame'>\n",
      "RangeIndex: 10000 entries, 0 to 9999\n",
      "Data columns (total 14 columns):\n",
      " #   Column            Non-Null Count  Dtype  \n",
      "---  ------            --------------  -----  \n",
      " 0   row_number        10000 non-null  int64  \n",
      " 1   customer_id       10000 non-null  int64  \n",
      " 2   surname           10000 non-null  object \n",
      " 3   credit_score      10000 non-null  int64  \n",
      " 4   geography         10000 non-null  object \n",
      " 5   gender            10000 non-null  object \n",
      " 6   age               10000 non-null  int64  \n",
      " 7   tenure            10000 non-null  int64  \n",
      " 8   balance           10000 non-null  float64\n",
      " 9   num_of_products   10000 non-null  int64  \n",
      " 10  has_cr_card       10000 non-null  int64  \n",
      " 11  is_active_member  10000 non-null  int64  \n",
      " 12  estimated_salary  10000 non-null  float64\n",
      " 13  exited            10000 non-null  int64  \n",
      "dtypes: float64(2), int64(9), object(3)\n",
      "memory usage: 1.1+ MB\n"
     ]
    }
   ],
   "source": [
    "# Checking data info\n",
    "\n",
    "df.info()"
   ]
  },
  {
   "cell_type": "code",
   "execution_count": 8,
   "id": "cc0c5db4",
   "metadata": {
    "ExecuteTime": {
     "end_time": "2022-05-23T22:57:04.067432Z",
     "start_time": "2022-05-23T22:57:04.061360Z"
    }
   },
   "outputs": [
    {
     "data": {
      "text/plain": [
       "row_number          0\n",
       "customer_id         0\n",
       "surname             0\n",
       "credit_score        0\n",
       "geography           0\n",
       "gender              0\n",
       "age                 0\n",
       "tenure              0\n",
       "balance             0\n",
       "num_of_products     0\n",
       "has_cr_card         0\n",
       "is_active_member    0\n",
       "estimated_salary    0\n",
       "exited              0\n",
       "dtype: int64"
      ]
     },
     "execution_count": 8,
     "metadata": {},
     "output_type": "execute_result"
    }
   ],
   "source": [
    "# Checking for NA's\n",
    "\n",
    "df.isna().sum()"
   ]
  },
  {
   "cell_type": "code",
   "execution_count": 9,
   "id": "38ec7a36",
   "metadata": {
    "ExecuteTime": {
     "end_time": "2022-05-23T22:57:09.813815Z",
     "start_time": "2022-05-23T22:57:09.805579Z"
    }
   },
   "outputs": [
    {
     "data": {
      "text/plain": [
       "0"
      ]
     },
     "execution_count": 9,
     "metadata": {},
     "output_type": "execute_result"
    }
   ],
   "source": [
    "# Checking for duplicate rows\n",
    "\n",
    "df.duplicated().sum()"
   ]
  },
  {
   "cell_type": "code",
   "execution_count": 10,
   "id": "7730c03a",
   "metadata": {
    "ExecuteTime": {
     "end_time": "2022-05-23T22:57:10.915887Z",
     "start_time": "2022-05-23T22:57:10.911670Z"
    }
   },
   "outputs": [
    {
     "data": {
      "text/plain": [
       "0    7963\n",
       "1    2037\n",
       "Name: exited, dtype: int64"
      ]
     },
     "execution_count": 10,
     "metadata": {},
     "output_type": "execute_result"
    }
   ],
   "source": [
    "# Response variable\n",
    "\n",
    "df['exited'].value_counts()"
   ]
  },
  {
   "cell_type": "code",
   "execution_count": 11,
   "id": "c41b60af",
   "metadata": {
    "ExecuteTime": {
     "end_time": "2022-05-23T22:57:12.126628Z",
     "start_time": "2022-05-23T22:57:12.122051Z"
    }
   },
   "outputs": [
    {
     "data": {
      "text/plain": [
       "0    0.7963\n",
       "1    0.2037\n",
       "Name: exited, dtype: float64"
      ]
     },
     "execution_count": 11,
     "metadata": {},
     "output_type": "execute_result"
    }
   ],
   "source": [
    "# Response variable - percentage\n",
    "\n",
    "df['exited'].value_counts(normalize=True)"
   ]
  },
  {
   "cell_type": "code",
   "execution_count": 12,
   "id": "68c65920",
   "metadata": {
    "ExecuteTime": {
     "end_time": "2022-05-23T22:57:17.321547Z",
     "start_time": "2022-05-23T22:57:17.317912Z"
    }
   },
   "outputs": [],
   "source": [
    "# Droping 'row_number' column\n",
    "\n",
    "df = df.drop(columns=['row_number'])"
   ]
  },
  {
   "cell_type": "code",
   "execution_count": 13,
   "id": "9bb22857",
   "metadata": {
    "ExecuteTime": {
     "end_time": "2022-05-23T22:57:18.256905Z",
     "start_time": "2022-05-23T22:57:18.253988Z"
    }
   },
   "outputs": [],
   "source": [
    "# Droping 'surname' column\n",
    "\n",
    "df = df.drop(columns=['surname'])"
   ]
  },
  {
   "cell_type": "code",
   "execution_count": 14,
   "id": "bff2815b",
   "metadata": {
    "ExecuteTime": {
     "end_time": "2022-05-23T22:57:18.864667Z",
     "start_time": "2022-05-23T22:57:18.860639Z"
    }
   },
   "outputs": [
    {
     "data": {
      "text/plain": [
       "10000"
      ]
     },
     "execution_count": 14,
     "metadata": {},
     "output_type": "execute_result"
    }
   ],
   "source": [
    "# Checking the number of unique customer id's\n",
    "\n",
    "len(df['customer_id'].unique())"
   ]
  },
  {
   "cell_type": "code",
   "execution_count": 15,
   "id": "e06424d7",
   "metadata": {
    "ExecuteTime": {
     "end_time": "2022-05-23T22:57:19.815736Z",
     "start_time": "2022-05-23T22:57:19.813034Z"
    }
   },
   "outputs": [],
   "source": [
    "# Since each row corresponds to an unique customer we are going to set 'customer_id' row as index\n",
    "\n",
    "df = df.set_index('customer_id')"
   ]
  },
  {
   "cell_type": "code",
   "execution_count": 16,
   "id": "c02d4b39",
   "metadata": {
    "ExecuteTime": {
     "end_time": "2022-05-23T22:57:21.819949Z",
     "start_time": "2022-05-23T22:57:21.808204Z"
    }
   },
   "outputs": [
    {
     "data": {
      "text/html": [
       "<div>\n",
       "<style scoped>\n",
       "    .dataframe tbody tr th:only-of-type {\n",
       "        vertical-align: middle;\n",
       "    }\n",
       "\n",
       "    .dataframe tbody tr th {\n",
       "        vertical-align: top;\n",
       "    }\n",
       "\n",
       "    .dataframe thead th {\n",
       "        text-align: right;\n",
       "    }\n",
       "</style>\n",
       "<table border=\"1\" class=\"dataframe\">\n",
       "  <thead>\n",
       "    <tr style=\"text-align: right;\">\n",
       "      <th></th>\n",
       "      <th>credit_score</th>\n",
       "      <th>geography</th>\n",
       "      <th>gender</th>\n",
       "      <th>age</th>\n",
       "      <th>tenure</th>\n",
       "      <th>balance</th>\n",
       "      <th>num_of_products</th>\n",
       "      <th>has_cr_card</th>\n",
       "      <th>is_active_member</th>\n",
       "      <th>estimated_salary</th>\n",
       "      <th>exited</th>\n",
       "    </tr>\n",
       "    <tr>\n",
       "      <th>customer_id</th>\n",
       "      <th></th>\n",
       "      <th></th>\n",
       "      <th></th>\n",
       "      <th></th>\n",
       "      <th></th>\n",
       "      <th></th>\n",
       "      <th></th>\n",
       "      <th></th>\n",
       "      <th></th>\n",
       "      <th></th>\n",
       "      <th></th>\n",
       "    </tr>\n",
       "  </thead>\n",
       "  <tbody>\n",
       "    <tr>\n",
       "      <th>15634602</th>\n",
       "      <td>619</td>\n",
       "      <td>France</td>\n",
       "      <td>Female</td>\n",
       "      <td>42</td>\n",
       "      <td>2</td>\n",
       "      <td>0.00</td>\n",
       "      <td>1</td>\n",
       "      <td>1</td>\n",
       "      <td>1</td>\n",
       "      <td>101348.88</td>\n",
       "      <td>1</td>\n",
       "    </tr>\n",
       "    <tr>\n",
       "      <th>15647311</th>\n",
       "      <td>608</td>\n",
       "      <td>Spain</td>\n",
       "      <td>Female</td>\n",
       "      <td>41</td>\n",
       "      <td>1</td>\n",
       "      <td>83807.86</td>\n",
       "      <td>1</td>\n",
       "      <td>0</td>\n",
       "      <td>1</td>\n",
       "      <td>112542.58</td>\n",
       "      <td>0</td>\n",
       "    </tr>\n",
       "    <tr>\n",
       "      <th>15619304</th>\n",
       "      <td>502</td>\n",
       "      <td>France</td>\n",
       "      <td>Female</td>\n",
       "      <td>42</td>\n",
       "      <td>8</td>\n",
       "      <td>159660.80</td>\n",
       "      <td>3</td>\n",
       "      <td>1</td>\n",
       "      <td>0</td>\n",
       "      <td>113931.57</td>\n",
       "      <td>1</td>\n",
       "    </tr>\n",
       "    <tr>\n",
       "      <th>15701354</th>\n",
       "      <td>699</td>\n",
       "      <td>France</td>\n",
       "      <td>Female</td>\n",
       "      <td>39</td>\n",
       "      <td>1</td>\n",
       "      <td>0.00</td>\n",
       "      <td>2</td>\n",
       "      <td>0</td>\n",
       "      <td>0</td>\n",
       "      <td>93826.63</td>\n",
       "      <td>0</td>\n",
       "    </tr>\n",
       "    <tr>\n",
       "      <th>15737888</th>\n",
       "      <td>850</td>\n",
       "      <td>Spain</td>\n",
       "      <td>Female</td>\n",
       "      <td>43</td>\n",
       "      <td>2</td>\n",
       "      <td>125510.82</td>\n",
       "      <td>1</td>\n",
       "      <td>1</td>\n",
       "      <td>1</td>\n",
       "      <td>79084.10</td>\n",
       "      <td>0</td>\n",
       "    </tr>\n",
       "    <tr>\n",
       "      <th>...</th>\n",
       "      <td>...</td>\n",
       "      <td>...</td>\n",
       "      <td>...</td>\n",
       "      <td>...</td>\n",
       "      <td>...</td>\n",
       "      <td>...</td>\n",
       "      <td>...</td>\n",
       "      <td>...</td>\n",
       "      <td>...</td>\n",
       "      <td>...</td>\n",
       "      <td>...</td>\n",
       "    </tr>\n",
       "    <tr>\n",
       "      <th>15606229</th>\n",
       "      <td>771</td>\n",
       "      <td>France</td>\n",
       "      <td>Male</td>\n",
       "      <td>39</td>\n",
       "      <td>5</td>\n",
       "      <td>0.00</td>\n",
       "      <td>2</td>\n",
       "      <td>1</td>\n",
       "      <td>0</td>\n",
       "      <td>96270.64</td>\n",
       "      <td>0</td>\n",
       "    </tr>\n",
       "    <tr>\n",
       "      <th>15569892</th>\n",
       "      <td>516</td>\n",
       "      <td>France</td>\n",
       "      <td>Male</td>\n",
       "      <td>35</td>\n",
       "      <td>10</td>\n",
       "      <td>57369.61</td>\n",
       "      <td>1</td>\n",
       "      <td>1</td>\n",
       "      <td>1</td>\n",
       "      <td>101699.77</td>\n",
       "      <td>0</td>\n",
       "    </tr>\n",
       "    <tr>\n",
       "      <th>15584532</th>\n",
       "      <td>709</td>\n",
       "      <td>France</td>\n",
       "      <td>Female</td>\n",
       "      <td>36</td>\n",
       "      <td>7</td>\n",
       "      <td>0.00</td>\n",
       "      <td>1</td>\n",
       "      <td>0</td>\n",
       "      <td>1</td>\n",
       "      <td>42085.58</td>\n",
       "      <td>1</td>\n",
       "    </tr>\n",
       "    <tr>\n",
       "      <th>15682355</th>\n",
       "      <td>772</td>\n",
       "      <td>Germany</td>\n",
       "      <td>Male</td>\n",
       "      <td>42</td>\n",
       "      <td>3</td>\n",
       "      <td>75075.31</td>\n",
       "      <td>2</td>\n",
       "      <td>1</td>\n",
       "      <td>0</td>\n",
       "      <td>92888.52</td>\n",
       "      <td>1</td>\n",
       "    </tr>\n",
       "    <tr>\n",
       "      <th>15628319</th>\n",
       "      <td>792</td>\n",
       "      <td>France</td>\n",
       "      <td>Female</td>\n",
       "      <td>28</td>\n",
       "      <td>4</td>\n",
       "      <td>130142.79</td>\n",
       "      <td>1</td>\n",
       "      <td>1</td>\n",
       "      <td>0</td>\n",
       "      <td>38190.78</td>\n",
       "      <td>0</td>\n",
       "    </tr>\n",
       "  </tbody>\n",
       "</table>\n",
       "<p>10000 rows × 11 columns</p>\n",
       "</div>"
      ],
      "text/plain": [
       "             credit_score geography  gender  age  tenure    balance  \\\n",
       "customer_id                                                           \n",
       "15634602              619    France  Female   42       2       0.00   \n",
       "15647311              608     Spain  Female   41       1   83807.86   \n",
       "15619304              502    France  Female   42       8  159660.80   \n",
       "15701354              699    France  Female   39       1       0.00   \n",
       "15737888              850     Spain  Female   43       2  125510.82   \n",
       "...                   ...       ...     ...  ...     ...        ...   \n",
       "15606229              771    France    Male   39       5       0.00   \n",
       "15569892              516    France    Male   35      10   57369.61   \n",
       "15584532              709    France  Female   36       7       0.00   \n",
       "15682355              772   Germany    Male   42       3   75075.31   \n",
       "15628319              792    France  Female   28       4  130142.79   \n",
       "\n",
       "             num_of_products  has_cr_card  is_active_member  estimated_salary  \\\n",
       "customer_id                                                                     \n",
       "15634602                   1            1                 1         101348.88   \n",
       "15647311                   1            0                 1         112542.58   \n",
       "15619304                   3            1                 0         113931.57   \n",
       "15701354                   2            0                 0          93826.63   \n",
       "15737888                   1            1                 1          79084.10   \n",
       "...                      ...          ...               ...               ...   \n",
       "15606229                   2            1                 0          96270.64   \n",
       "15569892                   1            1                 1         101699.77   \n",
       "15584532                   1            0                 1          42085.58   \n",
       "15682355                   2            1                 0          92888.52   \n",
       "15628319                   1            1                 0          38190.78   \n",
       "\n",
       "             exited  \n",
       "customer_id          \n",
       "15634602          1  \n",
       "15647311          0  \n",
       "15619304          1  \n",
       "15701354          0  \n",
       "15737888          0  \n",
       "...             ...  \n",
       "15606229          0  \n",
       "15569892          0  \n",
       "15584532          1  \n",
       "15682355          1  \n",
       "15628319          0  \n",
       "\n",
       "[10000 rows x 11 columns]"
      ]
     },
     "execution_count": 16,
     "metadata": {},
     "output_type": "execute_result"
    }
   ],
   "source": [
    "df"
   ]
  },
  {
   "cell_type": "markdown",
   "id": "5cbfbb7b",
   "metadata": {
    "ExecuteTime": {
     "end_time": "2022-04-04T02:05:06.715516Z",
     "start_time": "2022-04-04T02:05:06.711122Z"
    }
   },
   "source": [
    "## <font color=\"gray\"> 1.2 Descriptive statistics </font>"
   ]
  },
  {
   "cell_type": "markdown",
   "id": "445813d1",
   "metadata": {},
   "source": [
    "### <i>1.2.1 descriptive statistics</i>"
   ]
  },
  {
   "cell_type": "code",
   "execution_count": 17,
   "id": "852beb62",
   "metadata": {
    "ExecuteTime": {
     "end_time": "2022-05-23T22:57:28.579648Z",
     "start_time": "2022-05-23T22:57:28.574893Z"
    }
   },
   "outputs": [],
   "source": [
    "# Numerical and categorical attributes\n",
    "\n",
    "# numerical\n",
    "num_attributes = df.select_dtypes(include=['int64', 'float64'])\n",
    "\n",
    "# categorical\n",
    "cat_attributes = df.select_dtypes(exclude=['int64', 'float64'])"
   ]
  },
  {
   "cell_type": "code",
   "execution_count": 18,
   "id": "eec4060f",
   "metadata": {
    "ExecuteTime": {
     "end_time": "2022-05-23T22:57:30.147878Z",
     "start_time": "2022-05-23T22:57:30.126491Z"
    }
   },
   "outputs": [
    {
     "data": {
      "text/html": [
       "<div>\n",
       "<style scoped>\n",
       "    .dataframe tbody tr th:only-of-type {\n",
       "        vertical-align: middle;\n",
       "    }\n",
       "\n",
       "    .dataframe tbody tr th {\n",
       "        vertical-align: top;\n",
       "    }\n",
       "\n",
       "    .dataframe thead th {\n",
       "        text-align: right;\n",
       "    }\n",
       "</style>\n",
       "<table border=\"1\" class=\"dataframe\">\n",
       "  <thead>\n",
       "    <tr style=\"text-align: right;\">\n",
       "      <th></th>\n",
       "      <th>credit_score</th>\n",
       "      <th>age</th>\n",
       "      <th>tenure</th>\n",
       "      <th>balance</th>\n",
       "      <th>num_of_products</th>\n",
       "      <th>has_cr_card</th>\n",
       "      <th>is_active_member</th>\n",
       "      <th>estimated_salary</th>\n",
       "      <th>exited</th>\n",
       "    </tr>\n",
       "  </thead>\n",
       "  <tbody>\n",
       "    <tr>\n",
       "      <th>min</th>\n",
       "      <td>350.000000</td>\n",
       "      <td>18.000000</td>\n",
       "      <td>0.000000</td>\n",
       "      <td>0.000000</td>\n",
       "      <td>1.000000</td>\n",
       "      <td>0.000000</td>\n",
       "      <td>0.000000</td>\n",
       "      <td>11.580000</td>\n",
       "      <td>0.000000</td>\n",
       "    </tr>\n",
       "    <tr>\n",
       "      <th>max</th>\n",
       "      <td>850.000000</td>\n",
       "      <td>92.000000</td>\n",
       "      <td>10.000000</td>\n",
       "      <td>250898.090000</td>\n",
       "      <td>4.000000</td>\n",
       "      <td>1.000000</td>\n",
       "      <td>1.000000</td>\n",
       "      <td>199992.480000</td>\n",
       "      <td>1.000000</td>\n",
       "    </tr>\n",
       "    <tr>\n",
       "      <th>range</th>\n",
       "      <td>500.000000</td>\n",
       "      <td>74.000000</td>\n",
       "      <td>10.000000</td>\n",
       "      <td>250898.090000</td>\n",
       "      <td>3.000000</td>\n",
       "      <td>1.000000</td>\n",
       "      <td>1.000000</td>\n",
       "      <td>199980.900000</td>\n",
       "      <td>1.000000</td>\n",
       "    </tr>\n",
       "    <tr>\n",
       "      <th>mean</th>\n",
       "      <td>650.528800</td>\n",
       "      <td>38.921800</td>\n",
       "      <td>5.012800</td>\n",
       "      <td>76485.889288</td>\n",
       "      <td>1.530200</td>\n",
       "      <td>0.705500</td>\n",
       "      <td>0.515100</td>\n",
       "      <td>100090.239881</td>\n",
       "      <td>0.203700</td>\n",
       "    </tr>\n",
       "    <tr>\n",
       "      <th>median</th>\n",
       "      <td>652.000000</td>\n",
       "      <td>37.000000</td>\n",
       "      <td>5.000000</td>\n",
       "      <td>97198.540000</td>\n",
       "      <td>1.000000</td>\n",
       "      <td>1.000000</td>\n",
       "      <td>1.000000</td>\n",
       "      <td>100193.915000</td>\n",
       "      <td>0.000000</td>\n",
       "    </tr>\n",
       "    <tr>\n",
       "      <th>std</th>\n",
       "      <td>96.648466</td>\n",
       "      <td>10.487282</td>\n",
       "      <td>2.892030</td>\n",
       "      <td>62394.285254</td>\n",
       "      <td>0.581625</td>\n",
       "      <td>0.455818</td>\n",
       "      <td>0.499772</td>\n",
       "      <td>57507.617221</td>\n",
       "      <td>0.402748</td>\n",
       "    </tr>\n",
       "    <tr>\n",
       "      <th>skew</th>\n",
       "      <td>-0.071607</td>\n",
       "      <td>1.011320</td>\n",
       "      <td>0.010991</td>\n",
       "      <td>-0.141109</td>\n",
       "      <td>0.745568</td>\n",
       "      <td>-0.901812</td>\n",
       "      <td>-0.060437</td>\n",
       "      <td>0.002085</td>\n",
       "      <td>1.471611</td>\n",
       "    </tr>\n",
       "    <tr>\n",
       "      <th>kurtosis</th>\n",
       "      <td>-0.425726</td>\n",
       "      <td>1.395347</td>\n",
       "      <td>-1.165225</td>\n",
       "      <td>-1.489412</td>\n",
       "      <td>0.582981</td>\n",
       "      <td>-1.186973</td>\n",
       "      <td>-1.996747</td>\n",
       "      <td>-1.181518</td>\n",
       "      <td>0.165671</td>\n",
       "    </tr>\n",
       "  </tbody>\n",
       "</table>\n",
       "</div>"
      ],
      "text/plain": [
       "          credit_score        age     tenure        balance  num_of_products  \\\n",
       "min         350.000000  18.000000   0.000000       0.000000         1.000000   \n",
       "max         850.000000  92.000000  10.000000  250898.090000         4.000000   \n",
       "range       500.000000  74.000000  10.000000  250898.090000         3.000000   \n",
       "mean        650.528800  38.921800   5.012800   76485.889288         1.530200   \n",
       "median      652.000000  37.000000   5.000000   97198.540000         1.000000   \n",
       "std          96.648466  10.487282   2.892030   62394.285254         0.581625   \n",
       "skew         -0.071607   1.011320   0.010991      -0.141109         0.745568   \n",
       "kurtosis     -0.425726   1.395347  -1.165225      -1.489412         0.582981   \n",
       "\n",
       "          has_cr_card  is_active_member  estimated_salary    exited  \n",
       "min          0.000000          0.000000         11.580000  0.000000  \n",
       "max          1.000000          1.000000     199992.480000  1.000000  \n",
       "range        1.000000          1.000000     199980.900000  1.000000  \n",
       "mean         0.705500          0.515100     100090.239881  0.203700  \n",
       "median       1.000000          1.000000     100193.915000  0.000000  \n",
       "std          0.455818          0.499772      57507.617221  0.402748  \n",
       "skew        -0.901812         -0.060437          0.002085  1.471611  \n",
       "kurtosis    -1.186973         -1.996747         -1.181518  0.165671  "
      ]
     },
     "execution_count": 18,
     "metadata": {},
     "output_type": "execute_result"
    }
   ],
   "source": [
    "# Descriptive statistics\n",
    "\n",
    "descriptive_statistics(num_attributes)"
   ]
  },
  {
   "cell_type": "markdown",
   "id": "a2ec3a6b",
   "metadata": {},
   "source": [
    "### <i>1.2.2 general view of attributes</i>"
   ]
  },
  {
   "cell_type": "code",
   "execution_count": 19,
   "id": "6293dc80",
   "metadata": {
    "ExecuteTime": {
     "end_time": "2022-05-23T22:58:13.051767Z",
     "start_time": "2022-05-23T22:58:12.144478Z"
    }
   },
   "outputs": [
    {
     "data": {
      "image/png": "[encoded data removed]",
      "text/plain": [
       "<Figure size 1440x1080 with 9 Axes>"
      ]
     },
     "metadata": {
      "needs_background": "light"
     },
     "output_type": "display_data"
    }
   ],
   "source": [
    "\n",
    "# Numeric attributes view\n",
    "\n",
    "# Exploring numerical attributes\n",
    "\n",
    "# as we are interested in people who have exited, in this evaluation we are going\n",
    "# to filter the dataset based on this condition to see the behaviour of numerical attributes for this group\n",
    "\n",
    "# we are not showing here the distribution for the numerical variable 'exited' because it is our target variable\n",
    "\n",
    "num_attributes.loc[num_attributes['exited']==1, num_attributes.columns!='exited'].hist(figsize=(20,15), color='red');"
   ]
  },
  {
   "cell_type": "code",
   "execution_count": 20,
   "id": "cb548270",
   "metadata": {
    "ExecuteTime": {
     "end_time": "2022-05-23T22:58:15.138495Z",
     "start_time": "2022-05-23T22:58:14.414430Z"
    }
   },
   "outputs": [
    {
     "data": {
      "image/png": "[encoded data removed]",
      "text/plain": [
       "<Figure size 1440x1080 with 9 Axes>"
      ]
     },
     "metadata": {
      "needs_background": "light"
     },
     "output_type": "display_data"
    }
   ],
   "source": [
    "# Now let's compare the distributions for the same variables with people who have not exited\n",
    "\n",
    "\n",
    "num_attributes.loc[num_attributes['exited']==0, num_attributes.columns!='exited'].hist(figsize=(20,15), color='blue');"
   ]
  },
  {
   "cell_type": "markdown",
   "id": "1f336665",
   "metadata": {},
   "source": [
    "* It looks like there are some differences between the two evaluated groups when looking closely at some variables like balance, num_of_products and is_active_member.\n",
    "\n",
    "* Probably for the features where there are obvious differences this are going to help the machine learning model to figure out whether the customer is leaving or not (or the % probability of doing so)."
   ]
  },
  {
   "cell_type": "code",
   "execution_count": 21,
   "id": "bd0c51d1",
   "metadata": {
    "ExecuteTime": {
     "end_time": "2022-05-23T22:58:19.927843Z",
     "start_time": "2022-05-23T22:58:19.725193Z"
    }
   },
   "outputs": [
    {
     "data": {
      "image/png": "[encoded data removed]",
      "text/plain": [
       "<Figure size 1080x360 with 2 Axes>"
      ]
     },
     "metadata": {
      "needs_background": "light"
     },
     "output_type": "display_data"
    }
   ],
   "source": [
    "# Categorical attributes view\n",
    "\n",
    "\n",
    "plt.figure(figsize=(15,5))\n",
    "\n",
    "# gender profile for people who have exited\n",
    "\n",
    "plt.subplot(1,2,1)\n",
    "sns.barplot(x='gender',\n",
    "            y=0,\n",
    "            data=df.loc[df['exited']==1, ['gender']].groupby('gender').size().reset_index())\n",
    "\n",
    "plt.ylabel('Count')\n",
    "plt.title('people who have exited')\n",
    "\n",
    "\n",
    "# gender profile for people who have not exited\n",
    "\n",
    "plt.subplot(1,2,2)\n",
    "sns.barplot(x='gender',\n",
    "            y=0,\n",
    "            data=df.loc[df['exited']==0, ['gender']].groupby('gender').size().reset_index())\n",
    "\n",
    "plt.ylabel('Count')\n",
    "plt.title('people who have NOT exited')\n",
    "\n",
    "plt.tight_layout();"
   ]
  },
  {
   "cell_type": "markdown",
   "id": "a0377659",
   "metadata": {},
   "source": [
    "The female/male distribution between people who have and have not exited is different. Gender might be helpful when modeling churn behaviour. "
   ]
  },
  {
   "cell_type": "code",
   "execution_count": 22,
   "id": "5870871b",
   "metadata": {
    "ExecuteTime": {
     "end_time": "2022-05-23T22:58:25.796867Z",
     "start_time": "2022-05-23T22:58:25.608993Z"
    }
   },
   "outputs": [
    {
     "data": {
      "image/png": "[encoded data removed]",
      "text/plain": [
       "<Figure size 1080x360 with 2 Axes>"
      ]
     },
     "metadata": {
      "needs_background": "light"
     },
     "output_type": "display_data"
    }
   ],
   "source": [
    "# Categorical attributes view\n",
    "\n",
    "\n",
    "plt.figure(figsize=(15,5))\n",
    "\n",
    "# geography profile for people who have exited\n",
    "\n",
    "plt.subplot(1,2,1)\n",
    "sns.barplot(x='geography',\n",
    "            y=0,\n",
    "            data=df.loc[df['exited']==1, ['geography']].groupby('geography').size().reset_index())\n",
    "\n",
    "plt.ylabel('Count')\n",
    "plt.title('people who have exited')\n",
    "\n",
    "\n",
    "# geography profile for people who have not exited\n",
    "\n",
    "plt.subplot(1,2,2)\n",
    "sns.barplot(x='geography',\n",
    "            y=0,\n",
    "            data=df.loc[df['exited']==0, ['geography']].groupby('geography').size().reset_index())\n",
    "\n",
    "plt.ylabel('Count')\n",
    "plt.title('people who have NOT exited')\n",
    "\n",
    "plt.tight_layout();"
   ]
  },
  {
   "cell_type": "markdown",
   "id": "c141f73f",
   "metadata": {},
   "source": [
    "When looking at country distribution between customers who have and have not exited it is also possible to see differences. Therefore 'geography' might be another interesting feature to predict churn."
   ]
  },
  {
   "cell_type": "markdown",
   "id": "69c54c2d",
   "metadata": {
    "ExecuteTime": {
     "end_time": "2022-04-04T02:15:14.271780Z",
     "start_time": "2022-04-04T02:15:14.269408Z"
    }
   },
   "source": [
    "# 2.0 Feature engineering"
   ]
  },
  {
   "cell_type": "code",
   "execution_count": 65,
   "id": "f8b95797",
   "metadata": {
    "ExecuteTime": {
     "end_time": "2022-05-24T00:02:42.113124Z",
     "start_time": "2022-05-24T00:02:42.107674Z"
    }
   },
   "outputs": [],
   "source": [
    "df_2 = df.copy()"
   ]
  },
  {
   "cell_type": "markdown",
   "id": "eccffe6e",
   "metadata": {
    "ExecuteTime": {
     "end_time": "2022-04-04T02:05:06.715516Z",
     "start_time": "2022-04-04T02:05:06.711122Z"
    }
   },
   "source": [
    "## <font color=\"gray\"> 2.1 Creating new features </font>"
   ]
  },
  {
   "cell_type": "code",
   "execution_count": 66,
   "id": "2864e9f1",
   "metadata": {
    "ExecuteTime": {
     "end_time": "2022-05-24T00:02:43.638073Z",
     "start_time": "2022-05-24T00:02:43.632921Z"
    }
   },
   "outputs": [],
   "source": [
    "# Creating 'age_salary_ratio' feature\n",
    "\n",
    "df_2['age_salary_ratio'] = df_2['age']/df_2['estimated_salary']"
   ]
  },
  {
   "cell_type": "code",
   "execution_count": 67,
   "id": "91e663e1",
   "metadata": {
    "ExecuteTime": {
     "end_time": "2022-05-24T00:02:44.417185Z",
     "start_time": "2022-05-24T00:02:44.414030Z"
    }
   },
   "outputs": [],
   "source": [
    "# Creating 'balance_estimated_salary_ratio' feature\n",
    "\n",
    "df_2['balance_estimated_salary_ratio'] = df_2['balance']/df_2['estimated_salary']"
   ]
  },
  {
   "cell_type": "code",
   "execution_count": 68,
   "id": "c7735854",
   "metadata": {
    "ExecuteTime": {
     "end_time": "2022-05-24T00:02:45.249215Z",
     "start_time": "2022-05-24T00:02:45.246138Z"
    }
   },
   "outputs": [],
   "source": [
    "# Creating 'balance_age_ratio' feature\n",
    "\n",
    "df_2['balance_age_ratio'] = df_2['balance']/df_2['age']"
   ]
  },
  {
   "cell_type": "code",
   "execution_count": 69,
   "id": "32f850bc",
   "metadata": {
    "ExecuteTime": {
     "end_time": "2022-05-24T00:02:45.931867Z",
     "start_time": "2022-05-24T00:02:45.926162Z"
    }
   },
   "outputs": [],
   "source": [
    "# Creating 'age_credit_score_ratio' feature\n",
    "\n",
    "df_2['age_credit_score_ratio'] = df_2['age']/df_2['credit_score']"
   ]
  },
  {
   "cell_type": "code",
   "execution_count": 70,
   "id": "e3cc3933",
   "metadata": {
    "ExecuteTime": {
     "end_time": "2022-05-24T00:02:47.145220Z",
     "start_time": "2022-05-24T00:02:47.141932Z"
    }
   },
   "outputs": [],
   "source": [
    "# Creating 'balance_credit_score_ratio' feature\n",
    "\n",
    "df_2['balance_credit_score_ratio'] = df_2['balance']/df_2['credit_score']"
   ]
  },
  {
   "cell_type": "code",
   "execution_count": 71,
   "id": "b63e9ee8",
   "metadata": {
    "ExecuteTime": {
     "end_time": "2022-05-24T00:02:48.102630Z",
     "start_time": "2022-05-24T00:02:48.098607Z"
    }
   },
   "outputs": [],
   "source": [
    "# Creating 'tenure_credit_score_ratio' feature\n",
    "\n",
    "df_2['tenure_credit_score_ratio'] = df_2['tenure']/df_2['credit_score']"
   ]
  },
  {
   "cell_type": "code",
   "execution_count": 72,
   "id": "ef0bf9d0",
   "metadata": {
    "ExecuteTime": {
     "end_time": "2022-05-24T00:02:48.807402Z",
     "start_time": "2022-05-24T00:02:48.804464Z"
    }
   },
   "outputs": [],
   "source": [
    "# Creating 'estimated_salary_credit_score_ratio' feature\n",
    "\n",
    "df_2['estimated_salary_credit_score_ratio'] = df_2['estimated_salary']/df_2['credit_score']"
   ]
  },
  {
   "cell_type": "code",
   "execution_count": 73,
   "id": "b4e742ef",
   "metadata": {
    "ExecuteTime": {
     "end_time": "2022-05-24T00:02:49.457345Z",
     "start_time": "2022-05-24T00:02:49.451781Z"
    }
   },
   "outputs": [],
   "source": [
    "# Creating 'num_of_products_credit_score_ratio' feature\n",
    "\n",
    "df_2['num_of_products_credit_score_ratio'] = df_2['num_of_products']/df_2['credit_score']"
   ]
  },
  {
   "cell_type": "code",
   "execution_count": 74,
   "id": "a6890b87",
   "metadata": {
    "ExecuteTime": {
     "end_time": "2022-05-24T00:02:50.242373Z",
     "start_time": "2022-05-24T00:02:50.234444Z"
    }
   },
   "outputs": [],
   "source": [
    "# Creating the feature 'stage of life' feature\n",
    "\n",
    "df_2['stage_of_life']= df_2['age'].apply(lambda x: 'adult' if x>=20 and x<=39\n",
    "                                         else 'middle_age_adult' if x>=40 and x<=59\n",
    "                                         else 'senior_adult')"
   ]
  },
  {
   "cell_type": "code",
   "execution_count": 75,
   "id": "911582c3",
   "metadata": {
    "ExecuteTime": {
     "end_time": "2022-05-24T00:02:51.284880Z",
     "start_time": "2022-05-24T00:02:51.279763Z"
    }
   },
   "outputs": [],
   "source": [
    "# Creating the feature 'salary_classification' feature\n",
    "\n",
    "df_2['salary_classification']= df_2['estimated_salary'].apply(lambda x: 'above_mean' if x>110000\n",
    "                                                              else 'average' if x>=90000 and x<=110000\n",
    "                                                              else 'below_mean')"
   ]
  },
  {
   "cell_type": "code",
   "execution_count": 76,
   "id": "3d15040c",
   "metadata": {
    "ExecuteTime": {
     "end_time": "2022-05-24T00:02:52.328658Z",
     "start_time": "2022-05-24T00:02:52.323628Z"
    }
   },
   "outputs": [],
   "source": [
    "# Creating the feature 'credit_score_classification' feature\n",
    "\n",
    "df_2['credit_score_classification']= df_2['credit_score'].apply(lambda x: 'high_score' if x>700\n",
    "                                                              else 'average_score' if x>=600 and x<=700\n",
    "                                                              else 'low_score')"
   ]
  },
  {
   "cell_type": "code",
   "execution_count": 77,
   "id": "1cef8d99",
   "metadata": {
    "ExecuteTime": {
     "end_time": "2022-05-24T00:02:53.269767Z",
     "start_time": "2022-05-24T00:02:53.260921Z"
    }
   },
   "outputs": [],
   "source": [
    "# Creating the feature 'tenure_classification' feature\n",
    "\n",
    "df_2['tenure_classification']= df_2['tenure'].apply(lambda x: 'long_term' if x>8\n",
    "                                                              else 'regular' if x>=2 and x<=8\n",
    "                                                              else 'short_term')"
   ]
  },
  {
   "cell_type": "markdown",
   "id": "a0b7e9fe",
   "metadata": {
    "ExecuteTime": {
     "end_time": "2022-04-04T02:05:06.715516Z",
     "start_time": "2022-04-04T02:05:06.711122Z"
    }
   },
   "source": [
    "## <font color=\"gray\"> 2.2 Hypothesis to be validated </font>"
   ]
  },
  {
   "cell_type": "markdown",
   "id": "87c1fed9",
   "metadata": {
    "ExecuteTime": {
     "end_time": "2022-04-04T02:15:14.271780Z",
     "start_time": "2022-04-04T02:15:14.269408Z"
    }
   },
   "source": [
    "# 3.0 Data filtering"
   ]
  },
  {
   "cell_type": "code",
   "execution_count": 82,
   "id": "1b507ba7",
   "metadata": {
    "ExecuteTime": {
     "end_time": "2022-05-24T00:44:18.745375Z",
     "start_time": "2022-05-24T00:44:18.741216Z"
    }
   },
   "outputs": [],
   "source": [
    "df_3 = df_2.copy()"
   ]
  },
  {
   "cell_type": "code",
   "execution_count": 83,
   "id": "86259650",
   "metadata": {
    "ExecuteTime": {
     "end_time": "2022-05-24T00:45:04.878499Z",
     "start_time": "2022-05-24T00:45:04.874945Z"
    }
   },
   "outputs": [],
   "source": [
    "# According to previous data visualization previously carried out (session 1.2.2) the feature 'estimated_salary' \n",
    "##  seems to beconstant and therefore do not carry useful information for group segregation. We are going to remove it\n",
    "\n",
    "df_3 = df_3.drop(columns=['estimated_salary'])"
   ]
  },
  {
   "cell_type": "markdown",
   "id": "57d114ed",
   "metadata": {
    "ExecuteTime": {
     "end_time": "2022-04-04T02:15:14.271780Z",
     "start_time": "2022-04-04T02:15:14.269408Z"
    }
   },
   "source": [
    "# 4.0 Exploratory Data Analysis (EDA)"
   ]
  },
  {
   "cell_type": "code",
   "execution_count": 84,
   "id": "a8438b12",
   "metadata": {
    "ExecuteTime": {
     "end_time": "2022-05-24T00:45:41.453499Z",
     "start_time": "2022-05-24T00:45:41.450492Z"
    }
   },
   "outputs": [],
   "source": [
    "df_4 = df_3.copy()"
   ]
  },
  {
   "cell_type": "markdown",
   "id": "c5130811",
   "metadata": {
    "ExecuteTime": {
     "end_time": "2022-04-04T02:05:06.715516Z",
     "start_time": "2022-04-04T02:05:06.711122Z"
    }
   },
   "source": [
    "## <font color=\"gray\"> 4.1 Univariate analysis </font>"
   ]
  },
  {
   "cell_type": "code",
   "execution_count": 85,
   "id": "d3d0e8e6",
   "metadata": {
    "ExecuteTime": {
     "end_time": "2022-05-24T00:45:47.664912Z",
     "start_time": "2022-05-24T00:45:47.593146Z"
    }
   },
   "outputs": [
    {
     "data": {
      "text/plain": [
       "<AxesSubplot:xlabel='exited', ylabel='count'>"
      ]
     },
     "execution_count": 85,
     "metadata": {},
     "output_type": "execute_result"
    },
    {
     "data": {
      "image/png": "[encoded data removed]",
      "text/plain": [
       "<Figure size 432x288 with 1 Axes>"
      ]
     },
     "metadata": {
      "needs_background": "light"
     },
     "output_type": "display_data"
    }
   ],
   "source": [
    "# Response variable\n",
    "\n",
    "sns.countplot(df_4['exited'])"
   ]
  },
  {
   "cell_type": "markdown",
   "id": "39fb7619",
   "metadata": {},
   "source": [
    "### <i>4.1.1 numerical attributes</i>"
   ]
  },
  {
   "cell_type": "code",
   "execution_count": 86,
   "id": "be10469e",
   "metadata": {
    "ExecuteTime": {
     "end_time": "2022-05-24T00:46:34.045159Z",
     "start_time": "2022-05-24T00:46:32.071013Z"
    }
   },
   "outputs": [
    {
     "data": {
      "image/png": "[encoded data removed]",
      "text/plain": [
       "<Figure size 1080x720 with 16 Axes>"
      ]
     },
     "metadata": {
      "needs_background": "light"
     },
     "output_type": "display_data"
    }
   ],
   "source": [
    "df_4.select_dtypes(['float64', 'int64']).hist(figsize=(15,10), bins=50);\n",
    "plt.tight_layout()"
   ]
  },
  {
   "cell_type": "markdown",
   "id": "eef070e1",
   "metadata": {},
   "source": [
    "### <i>4.1.2 categorical attributes</i>"
   ]
  },
  {
   "cell_type": "code",
   "execution_count": 117,
   "id": "43357d0a",
   "metadata": {
    "ExecuteTime": {
     "end_time": "2022-05-24T01:39:27.862931Z",
     "start_time": "2022-05-24T01:39:27.447211Z"
    },
    "scrolled": true
   },
   "outputs": [
    {
     "data": {
      "image/png": "[encoded data removed]",
      "text/plain": [
       "<Figure size 1800x3600 with 6 Axes>"
      ]
     },
     "metadata": {
      "needs_background": "light"
     },
     "output_type": "display_data"
    }
   ],
   "source": [
    "# sets plot size\n",
    "plt.figure(figsize=(25, 50))\n",
    "\n",
    "# sets the inital plot position\n",
    "n = 1\n",
    "\n",
    "# iterates over the columns to plot\n",
    "for i in df_4.select_dtypes(exclude=['float64', 'int64']).columns:\n",
    "    plt.subplot(5, 3, n)\n",
    "    _ = sns.countplot(y=df_4.select_dtypes(exclude=['float64', 'int64'])[i], orient='v')\n",
    "    n += 1\n",
    "\n",
    "\n",
    "# # display the plot\n",
    "plt.show()"
   ]
  },
  {
   "cell_type": "markdown",
   "id": "888d9ab7",
   "metadata": {
    "ExecuteTime": {
     "end_time": "2022-04-04T02:05:06.715516Z",
     "start_time": "2022-04-04T02:05:06.711122Z"
    }
   },
   "source": [
    "## <font color=\"gray\"> 4.2 Bivariate analysis </font>"
   ]
  },
  {
   "cell_type": "markdown",
   "id": "7f7a422d",
   "metadata": {},
   "source": [
    "### <i>4.2.1 validating hypothesis raised</i>"
   ]
  },
  {
   "cell_type": "markdown",
   "id": "2c4d956e",
   "metadata": {},
   "source": [
    "### <i>4.2.2 statistical hypothesis testing</i>"
   ]
  },
  {
   "cell_type": "markdown",
   "id": "31260f97",
   "metadata": {},
   "source": [
    "It will be applied to numeric continuous attributes:\n",
    "\n",
    "       'balance', 'age_salary_ratio', 'balance_estimated_salary_ratio',\n",
    "       'balance_age_ratio', 'age_credit_score_ratio',\n",
    "       'balance_credit_score_ratio', 'tenure_credit_score_ratio',\n",
    "       'estimated_salary_credit_score_ratio',\n",
    "       'num_of_products_credit_score_ratio'\n",
    "\n",
    "But first let's test to check if the data distribution of these features has a gaussian shape (parametric distribution) so we can further apply the correct statistical test."
   ]
  },
  {
   "cell_type": "code",
   "execution_count": 118,
   "id": "2c05ebbf",
   "metadata": {
    "ExecuteTime": {
     "end_time": "2022-05-24T01:40:29.640770Z",
     "start_time": "2022-05-24T01:40:29.622033Z"
    },
    "scrolled": true
   },
   "outputs": [
    {
     "name": "stdout",
     "output_type": "stream",
     "text": [
      "Feature: balance\n",
      "stat=0.846, p=0.000\n",
      "Probably not Gaussian\n",
      "\n",
      "Feature: age_salary_ratio\n",
      "stat=0.014, p=0.000\n",
      "Probably not Gaussian\n",
      "\n",
      "Feature: balance_estimated_salary_ratio\n",
      "stat=0.009, p=0.000\n",
      "Probably not Gaussian\n",
      "\n",
      "Feature: balance_age_ratio\n",
      "stat=0.888, p=0.000\n",
      "Probably not Gaussian\n",
      "\n",
      "Feature: age_credit_score_ratio\n",
      "stat=0.936, p=0.000\n",
      "Probably not Gaussian\n",
      "\n",
      "Feature: balance_credit_score_ratio\n",
      "stat=0.872, p=0.000\n",
      "Probably not Gaussian\n",
      "\n",
      "Feature: tenure_credit_score_ratio\n",
      "stat=0.974, p=0.000\n",
      "Probably not Gaussian\n",
      "\n",
      "Feature: estimated_salary_credit_score_ratio\n",
      "stat=0.975, p=0.000\n",
      "Probably not Gaussian\n",
      "\n",
      "Feature: num_of_products_credit_score_ratio\n",
      "stat=0.900, p=0.000\n",
      "Probably not Gaussian\n",
      "\n"
     ]
    }
   ],
   "source": [
    "# Shapiro test\n",
    "\n",
    "for i in df_4.select_dtypes(include=['float64']).columns:\n",
    "\n",
    "    stat, p = stats.shapiro(df_4.loc[:, i])\n",
    "    \n",
    "    print('Feature: {}'.format(i))\n",
    "    print('stat=%.3f, p=%.3f' % (stat, p))\n",
    "\n",
    "    if p > 0.05:\n",
    "        print('Probably Gaussian\\n')\n",
    "\n",
    "    else:\n",
    "        print('Probably not Gaussian\\n')"
   ]
  },
  {
   "cell_type": "markdown",
   "id": "25203b1a",
   "metadata": {},
   "source": [
    "Since these features probably does not have a Gaussian shape we will apply Mann-Whitney non-parametric test:"
   ]
  },
  {
   "cell_type": "code",
   "execution_count": 115,
   "id": "d9592b53",
   "metadata": {
    "ExecuteTime": {
     "end_time": "2022-05-24T01:35:29.753778Z",
     "start_time": "2022-05-24T01:35:29.706303Z"
    },
    "scrolled": true
   },
   "outputs": [
    {
     "name": "stdout",
     "output_type": "stream",
     "text": [
      "Feature: balance\n",
      "stat=6849444.500, p=0.000\n",
      "Probably different distributions\n",
      "\n",
      "Feature: age_salary_ratio\n",
      "stat=7024933.000, p=0.000\n",
      "Probably different distributions\n",
      "\n",
      "Feature: balance_estimated_salary_ratio\n",
      "stat=6930793.000, p=0.000\n",
      "Probably different distributions\n",
      "\n",
      "Feature: balance_age_ratio\n",
      "stat=8008861.000, p=0.371\n",
      "Probably the same distribution\n",
      "\n",
      "Feature: age_credit_score_ratio\n",
      "stat=4866734.000, p=0.000\n",
      "Probably different distributions\n",
      "\n",
      "Feature: balance_credit_score_ratio\n",
      "stat=6753011.000, p=0.000\n",
      "Probably different distributions\n",
      "\n",
      "Feature: tenure_credit_score_ratio\n",
      "stat=8224942.500, p=0.324\n",
      "Probably the same distribution\n",
      "\n",
      "Feature: estimated_salary_credit_score_ratio\n",
      "stat=7877744.000, p=0.045\n",
      "Probably different distributions\n",
      "\n",
      "Feature: num_of_products_credit_score_ratio\n",
      "stat=9303612.500, p=0.000\n",
      "Probably different distributions\n",
      "\n"
     ]
    }
   ],
   "source": [
    "for i in df_4.select_dtypes(include=['float64']).columns:\n",
    "\n",
    "    stat, p = stats.mannwhitneyu(df_4.loc[df_4['exited']==0, i], \n",
    "                                 df_4.loc[df_4['exited']==1, i])\n",
    "    \n",
    "    print('Feature: {}'.format(i))\n",
    "    print('stat=%.3f, p=%.3f' % (stat, p))\n",
    "\n",
    "    if p > 0.05:\n",
    "        print('Probably the same distribution\\n')\n",
    "\n",
    "    else:\n",
    "        print('Probably different distributions\\n')"
   ]
  },
  {
   "cell_type": "markdown",
   "id": "e4245dd9",
   "metadata": {},
   "source": [
    "Checking the agreement between statistical test results and boxplots:"
   ]
  },
  {
   "cell_type": "code",
   "execution_count": 123,
   "id": "cdd33085",
   "metadata": {
    "ExecuteTime": {
     "end_time": "2022-05-24T01:42:49.460628Z",
     "start_time": "2022-05-24T01:42:48.713391Z"
    },
    "scrolled": true
   },
   "outputs": [
    {
     "data": {
      "image/png": "[encoded data removed]",
      "text/plain": [
       "<Figure size 1800x3600 with 9 Axes>"
      ]
     },
     "metadata": {
      "needs_background": "light"
     },
     "output_type": "display_data"
    }
   ],
   "source": [
    "# sets plot size\n",
    "plt.figure(figsize=(25, 50))\n",
    "\n",
    "# sets the inital plot position\n",
    "n = 1\n",
    "\n",
    "for i in df_4.select_dtypes(include=['float64']).columns:\n",
    "    \n",
    "    plt.subplot(4, 4, n)\n",
    "    sns.boxplot(x='exited', y=i, data=df_4)\n",
    "    n += 1\n",
    "    \n",
    "# # display the plot\n",
    "plt.show()"
   ]
  },
  {
   "cell_type": "markdown",
   "id": "157921af",
   "metadata": {
    "ExecuteTime": {
     "end_time": "2022-04-04T02:05:06.715516Z",
     "start_time": "2022-04-04T02:05:06.711122Z"
    }
   },
   "source": [
    "## <font color=\"gray\"> 4.3 Multivariate analysis </font>"
   ]
  },
  {
   "cell_type": "markdown",
   "id": "036ecdb6",
   "metadata": {},
   "source": [
    "### <i>4.3.1 numerical attributes</i>"
   ]
  },
  {
   "cell_type": "code",
   "execution_count": 124,
   "id": "bd9188a4",
   "metadata": {
    "ExecuteTime": {
     "end_time": "2022-05-24T01:48:20.505703Z",
     "start_time": "2022-05-24T01:48:20.197420Z"
    }
   },
   "outputs": [
    {
     "data": {
      "text/plain": [
       "<AxesSubplot:>"
      ]
     },
     "execution_count": 124,
     "metadata": {},
     "output_type": "execute_result"
    },
    {
     "data": {
      "image/png": "[encoded data removed]",
      "text/plain": [
       "<Figure size 1080x720 with 2 Axes>"
      ]
     },
     "metadata": {
      "needs_background": "light"
     },
     "output_type": "display_data"
    }
   ],
   "source": [
    "# Correlation analysis\n",
    "\n",
    "plt.figure(figsize=(15,10))\n",
    "\n",
    "sns.heatmap(df_4.select_dtypes(include=['float64', 'int64']).corr())"
   ]
  },
  {
   "cell_type": "markdown",
   "id": "8324fdd5",
   "metadata": {},
   "source": [
    "### <i>4.3.2 categorical attributes</i>"
   ]
  },
  {
   "cell_type": "code",
   "execution_count": 125,
   "id": "ba81d6dc",
   "metadata": {
    "ExecuteTime": {
     "end_time": "2022-05-24T01:49:46.227092Z",
     "start_time": "2022-05-24T01:49:45.744409Z"
    }
   },
   "outputs": [
    {
     "data": {
      "text/plain": [
       "<AxesSubplot:>"
      ]
     },
     "execution_count": 125,
     "metadata": {},
     "output_type": "execute_result"
    },
    {
     "data": {
      "image/png": "[encoded data removed]",
      "text/plain": [
       "<Figure size 1080x720 with 2 Axes>"
      ]
     },
     "metadata": {
      "needs_background": "light"
     },
     "output_type": "display_data"
    }
   ],
   "source": [
    "# Correlation analysis\n",
    "\n",
    "plt.figure(figsize=(15,10))\n",
    "\n",
    "plot_corr(df_4,\n",
    "          df_4.select_dtypes(exclude=['float64', 'int64']).columns)"
   ]
  },
  {
   "cell_type": "markdown",
   "id": "fd797330",
   "metadata": {
    "ExecuteTime": {
     "end_time": "2022-04-04T02:15:14.271780Z",
     "start_time": "2022-04-04T02:15:14.269408Z"
    }
   },
   "source": [
    "# 5.0 Data preparation"
   ]
  },
  {
   "cell_type": "code",
   "execution_count": 126,
   "id": "f149f4de",
   "metadata": {
    "ExecuteTime": {
     "end_time": "2022-05-24T01:52:22.145855Z",
     "start_time": "2022-05-24T01:52:22.142367Z"
    }
   },
   "outputs": [],
   "source": [
    "df_5 = df_4.copy()"
   ]
  },
  {
   "cell_type": "markdown",
   "id": "7bf45385",
   "metadata": {
    "ExecuteTime": {
     "end_time": "2022-04-04T02:05:06.715516Z",
     "start_time": "2022-04-04T02:05:06.711122Z"
    }
   },
   "source": [
    "## <font color=\"gray\"> 5.1 Train/Test split </font>"
   ]
  },
  {
   "cell_type": "code",
   "execution_count": 195,
   "id": "ec11ba7d",
   "metadata": {
    "ExecuteTime": {
     "end_time": "2022-05-24T03:25:27.151900Z",
     "start_time": "2022-05-24T03:25:27.143851Z"
    }
   },
   "outputs": [],
   "source": [
    "# Train/Test split\n",
    "\n",
    "# X_train, X_test, y_train, y_test = train_test_split(y, X, test_size=0.33, random_state=42) <- sintax\n",
    "\n",
    "y_train, y_test, X_train, X_test = train_test_split(df_5['exited'], \n",
    "                                                    df_5.drop(columns=['exited']), \n",
    "                                                    test_size=0.33, \n",
    "                                                    random_state=42,\n",
    "                                                    stratify=df_5['exited'])"
   ]
  },
  {
   "cell_type": "code",
   "execution_count": 176,
   "id": "3086a5ea",
   "metadata": {
    "ExecuteTime": {
     "end_time": "2022-05-24T03:19:19.463046Z",
     "start_time": "2022-05-24T03:19:19.456222Z"
    }
   },
   "outputs": [
    {
     "data": {
      "text/plain": [
       "0    0.796269\n",
       "1    0.203731\n",
       "Name: exited, dtype: float64"
      ]
     },
     "execution_count": 176,
     "metadata": {},
     "output_type": "execute_result"
    }
   ],
   "source": [
    "# Checking class proportion - Training set\n",
    "\n",
    "y_train.value_counts(normalize=True)"
   ]
  },
  {
   "cell_type": "code",
   "execution_count": 177,
   "id": "8a65cf6e",
   "metadata": {
    "ExecuteTime": {
     "end_time": "2022-05-24T03:19:20.003949Z",
     "start_time": "2022-05-24T03:19:19.999206Z"
    }
   },
   "outputs": [
    {
     "data": {
      "text/plain": [
       "0    0.796364\n",
       "1    0.203636\n",
       "Name: exited, dtype: float64"
      ]
     },
     "execution_count": 177,
     "metadata": {},
     "output_type": "execute_result"
    }
   ],
   "source": [
    "# Checking class proportion - Testing set\n",
    "\n",
    "y_test.value_counts(normalize=True)"
   ]
  },
  {
   "cell_type": "code",
   "execution_count": 178,
   "id": "00866fe6",
   "metadata": {
    "ExecuteTime": {
     "end_time": "2022-05-24T03:19:20.568464Z",
     "start_time": "2022-05-24T03:19:20.563936Z"
    }
   },
   "outputs": [
    {
     "data": {
      "text/plain": [
       "0    0.7963\n",
       "1    0.2037\n",
       "Name: exited, dtype: float64"
      ]
     },
     "execution_count": 178,
     "metadata": {},
     "output_type": "execute_result"
    }
   ],
   "source": [
    "# Reminding class proportion - Original data\n",
    "\n",
    "df['exited'].value_counts(normalize=True)"
   ]
  },
  {
   "cell_type": "markdown",
   "id": "63face81",
   "metadata": {
    "ExecuteTime": {
     "end_time": "2022-04-04T02:05:06.715516Z",
     "start_time": "2022-04-04T02:05:06.711122Z"
    }
   },
   "source": [
    "## <font color=\"gray\"> 5.2 Scaling - numerical attributes </font>"
   ]
  },
  {
   "cell_type": "code",
   "execution_count": 196,
   "id": "8f86a391",
   "metadata": {
    "ExecuteTime": {
     "end_time": "2022-05-24T03:25:30.839179Z",
     "start_time": "2022-05-24T03:25:30.833118Z"
    }
   },
   "outputs": [],
   "source": [
    "\n",
    "# Scaling 'credit_score' - MinMaxScaler\n",
    "\n",
    "scaler = MinMaxScaler()\n",
    "\n",
    "scaler.fit(X_train[['credit_score']].values)\n",
    "\n",
    "X_train['credit_score'] = scaler.transform(X_train[['credit_score']].values) # scaling train\n",
    "X_test['credit_score'] = scaler.transform(X_test[['credit_score']].values) # scaling test"
   ]
  },
  {
   "cell_type": "code",
   "execution_count": 197,
   "id": "cf9f451c",
   "metadata": {
    "ExecuteTime": {
     "end_time": "2022-05-24T03:25:31.810263Z",
     "start_time": "2022-05-24T03:25:31.804042Z"
    }
   },
   "outputs": [],
   "source": [
    "# Scaling 'age' - RobustScaler\n",
    "\n",
    "scaler = RobustScaler()\n",
    "\n",
    "scaler.fit(X_train[['age']].values)\n",
    "\n",
    "X_train['age'] = scaler.transform(X_train[['age']].values) # scaling train\n",
    "X_test['age'] = scaler.transform(X_test[['age']].values) # scaling test"
   ]
  },
  {
   "cell_type": "code",
   "execution_count": 198,
   "id": "409154c7",
   "metadata": {
    "ExecuteTime": {
     "end_time": "2022-05-24T03:25:32.545935Z",
     "start_time": "2022-05-24T03:25:32.538488Z"
    }
   },
   "outputs": [],
   "source": [
    "# Scaling 'tenure' - MinMaxScaler\n",
    "\n",
    "scaler = MinMaxScaler()\n",
    "\n",
    "scaler.fit(X_train[['tenure']].values)\n",
    "\n",
    "X_train['tenure'] = scaler.transform(X_train[['tenure']].values) # scaling train\n",
    "X_test['tenure'] = scaler.transform(X_test[['tenure']].values) # scaling test"
   ]
  },
  {
   "cell_type": "code",
   "execution_count": 199,
   "id": "b4ee5a24",
   "metadata": {
    "ExecuteTime": {
     "end_time": "2022-05-24T03:25:33.153655Z",
     "start_time": "2022-05-24T03:25:33.148221Z"
    }
   },
   "outputs": [],
   "source": [
    "# Scaling 'balance' - MinMaxScaler\n",
    "\n",
    "scaler = MinMaxScaler()\n",
    "\n",
    "scaler.fit(X_train[['balance']].values)\n",
    "\n",
    "X_train['balance'] = scaler.transform(X_train[['balance']].values) # scaling train\n",
    "X_test['balance'] = scaler.transform(X_test[['balance']].values) # scaling test"
   ]
  },
  {
   "cell_type": "code",
   "execution_count": 200,
   "id": "43e709eb",
   "metadata": {
    "ExecuteTime": {
     "end_time": "2022-05-24T03:25:34.148069Z",
     "start_time": "2022-05-24T03:25:34.142244Z"
    }
   },
   "outputs": [],
   "source": [
    "# Scaling 'num_of_products' - RobustScaler\n",
    "\n",
    "scaler = RobustScaler()\n",
    "\n",
    "scaler.fit(X_train[['num_of_products']].values)\n",
    "\n",
    "X_train['num_of_products'] = scaler.transform(X_train[['num_of_products']].values) # scaling train\n",
    "X_test['num_of_products'] = scaler.transform(X_test[['num_of_products']].values) # scaling test"
   ]
  },
  {
   "cell_type": "code",
   "execution_count": 201,
   "id": "e408f705",
   "metadata": {
    "ExecuteTime": {
     "end_time": "2022-05-24T03:25:35.319301Z",
     "start_time": "2022-05-24T03:25:35.313104Z"
    }
   },
   "outputs": [],
   "source": [
    "# Scaling 'age_salary_ratio' - MinMaxScaler\n",
    "\n",
    "scaler = MinMaxScaler()\n",
    "\n",
    "scaler.fit(X_train[['age_salary_ratio']].values)\n",
    "\n",
    "X_train['age_salary_ratio'] = scaler.transform(X_train[['age_salary_ratio']].values) # scaling train\n",
    "X_test['age_salary_ratio'] = scaler.transform(X_test[['age_salary_ratio']].values) # scaling test"
   ]
  },
  {
   "cell_type": "code",
   "execution_count": 202,
   "id": "2f10e43e",
   "metadata": {
    "ExecuteTime": {
     "end_time": "2022-05-24T03:25:39.621816Z",
     "start_time": "2022-05-24T03:25:39.616080Z"
    }
   },
   "outputs": [],
   "source": [
    "# Scaling 'balance_estimated_salary_ratio' - MinMaxScaler\n",
    "\n",
    "scaler = MinMaxScaler()\n",
    "\n",
    "scaler.fit(X_train[['balance_estimated_salary_ratio']].values)\n",
    "\n",
    "X_train['balance_estimated_salary_ratio'] = scaler.transform(X_train[['balance_estimated_salary_ratio']].values) # scaling train\n",
    "X_test['balance_estimated_salary_ratio'] = scaler.transform(X_test[['balance_estimated_salary_ratio']].values) # scaling test"
   ]
  },
  {
   "cell_type": "code",
   "execution_count": null,
   "id": "b51ffc2f",
   "metadata": {},
   "outputs": [],
   "source": [
    "# Scaling 'balance_age_ratio' - MinMaxScaler\n",
    "\n",
    "scaler = MinMaxScaler()\n",
    "\n",
    "scaler.fit(X_train[['balance_age_ratio']].values)\n",
    "\n",
    "X_train['balance_age_ratio'] = scaler.transform(X_train[['balance_age_ratio']].values) # scaling train\n",
    "X_test['balance_age_ratio'] = scaler.transform(X_test[['balance_age_ratio']].values) # scaling test"
   ]
  },
  {
   "cell_type": "code",
   "execution_count": 212,
   "id": "46c8c1fb",
   "metadata": {
    "ExecuteTime": {
     "end_time": "2022-05-24T03:33:47.285224Z",
     "start_time": "2022-05-24T03:33:47.278844Z"
    }
   },
   "outputs": [],
   "source": [
    "# Scaling 'age_credit_score_ratio' - MinMaxScaler\n",
    "\n",
    "scaler = MinMaxScaler()\n",
    "\n",
    "scaler.fit(X_train[['age_credit_score_ratio']].values)\n",
    "\n",
    "X_train['age_credit_score_ratio'] = scaler.transform(X_train[['age_credit_score_ratio']].values) # scaling train\n",
    "X_test['age_credit_score_ratio'] = scaler.transform(X_test[['age_credit_score_ratio']].values) # scaling test"
   ]
  },
  {
   "cell_type": "code",
   "execution_count": 217,
   "id": "65e1578a",
   "metadata": {
    "ExecuteTime": {
     "end_time": "2022-05-24T03:35:45.341970Z",
     "start_time": "2022-05-24T03:35:45.334285Z"
    }
   },
   "outputs": [],
   "source": [
    "# Scaling 'balance_credit_score_ratio' - MinMaxScaler\n",
    "\n",
    "scaler = MinMaxScaler()\n",
    "\n",
    "scaler.fit(X_train[['balance_credit_score_ratio']].values)\n",
    "\n",
    "X_train['balance_credit_score_ratio'] = scaler.transform(X_train[['balance_credit_score_ratio']].values) # scaling train\n",
    "X_test['balance_credit_score_ratio'] = scaler.transform(X_test[['balance_credit_score_ratio']].values) # scaling test"
   ]
  },
  {
   "cell_type": "code",
   "execution_count": 222,
   "id": "a5a34fe0",
   "metadata": {
    "ExecuteTime": {
     "end_time": "2022-05-24T03:37:06.754633Z",
     "start_time": "2022-05-24T03:37:06.748816Z"
    }
   },
   "outputs": [],
   "source": [
    "# Scaling 'tenure_credit_score_ratio' - MinMaxScaler\n",
    "\n",
    "scaler = MinMaxScaler()\n",
    "\n",
    "scaler.fit(X_train[['tenure_credit_score_ratio']].values)\n",
    "\n",
    "X_train['tenure_credit_score_ratio'] = scaler.transform(X_train[['tenure_credit_score_ratio']].values) # scaling train\n",
    "X_test['tenure_credit_score_ratio'] = scaler.transform(X_test[['tenure_credit_score_ratio']].values) # scaling test"
   ]
  },
  {
   "cell_type": "code",
   "execution_count": 227,
   "id": "e27ed93b",
   "metadata": {
    "ExecuteTime": {
     "end_time": "2022-05-24T03:38:39.779719Z",
     "start_time": "2022-05-24T03:38:39.773344Z"
    }
   },
   "outputs": [],
   "source": [
    "# Scaling 'estimated_salary_credit_score_ratio' - RobustScaler\n",
    "\n",
    "scaler = RobustScaler()\n",
    "\n",
    "scaler.fit(X_train[['estimated_salary_credit_score_ratio']].values)\n",
    "\n",
    "X_train['estimated_salary_credit_score_ratio'] = scaler.transform(X_train[['estimated_salary_credit_score_ratio']].values) # scaling train\n",
    "X_test['estimated_salary_credit_score_ratio'] = scaler.transform(X_test[['estimated_salary_credit_score_ratio']].values) # scaling test"
   ]
  },
  {
   "cell_type": "code",
   "execution_count": 232,
   "id": "89695b6e",
   "metadata": {
    "ExecuteTime": {
     "end_time": "2022-05-24T03:40:37.795042Z",
     "start_time": "2022-05-24T03:40:37.787049Z"
    }
   },
   "outputs": [],
   "source": [
    "# Scaling 'num_of_products_credit_score_ratio' - MinMaxScaler\n",
    "\n",
    "scaler = MinMaxScaler()\n",
    "\n",
    "scaler.fit(X_train[['num_of_products_credit_score_ratio']].values)\n",
    "\n",
    "X_train['num_of_products_credit_score_ratio'] = scaler.transform(X_train[['num_of_products_credit_score_ratio']].values) # scaling train\n",
    "X_test['num_of_products_credit_score_ratio'] = scaler.transform(X_test[['num_of_products_credit_score_ratio']].values) # scaling test"
   ]
  },
  {
   "cell_type": "code",
   "execution_count": null,
   "id": "c24d3045",
   "metadata": {},
   "outputs": [],
   "source": []
  },
  {
   "cell_type": "markdown",
   "id": "12f01fcc",
   "metadata": {
    "ExecuteTime": {
     "end_time": "2022-04-04T02:05:06.715516Z",
     "start_time": "2022-04-04T02:05:06.711122Z"
    }
   },
   "source": [
    "## <font color=\"gray\"> 5.3 Encoding - categorical attributes </font>"
   ]
  },
  {
   "cell_type": "markdown",
   "id": "1ede020a",
   "metadata": {
    "ExecuteTime": {
     "end_time": "2022-04-04T02:15:14.271780Z",
     "start_time": "2022-04-04T02:15:14.269408Z"
    }
   },
   "source": [
    "# 6.0 Feature selection"
   ]
  },
  {
   "cell_type": "code",
   "execution_count": null,
   "id": "733a72c2",
   "metadata": {},
   "outputs": [],
   "source": []
  },
  {
   "cell_type": "markdown",
   "id": "00ede864",
   "metadata": {
    "ExecuteTime": {
     "end_time": "2022-04-04T02:05:06.715516Z",
     "start_time": "2022-04-04T02:05:06.711122Z"
    }
   },
   "source": [
    "## <font color=\"gray\"> 6.1 Boruta algorithm </font>"
   ]
  },
  {
   "cell_type": "markdown",
   "id": "099f712a",
   "metadata": {
    "ExecuteTime": {
     "end_time": "2022-04-04T02:05:06.715516Z",
     "start_time": "2022-04-04T02:05:06.711122Z"
    }
   },
   "source": [
    "## <font color=\"gray\"> 6.2 Columns selected by Boruta</font>"
   ]
  },
  {
   "cell_type": "markdown",
   "id": "cd24f971",
   "metadata": {
    "ExecuteTime": {
     "end_time": "2022-04-04T02:15:14.271780Z",
     "start_time": "2022-04-04T02:15:14.269408Z"
    }
   },
   "source": [
    "# 7.0 Machine learning"
   ]
  },
  {
   "cell_type": "code",
   "execution_count": null,
   "id": "4071524c",
   "metadata": {},
   "outputs": [],
   "source": []
  },
  {
   "cell_type": "markdown",
   "id": "ae55e64c",
   "metadata": {
    "ExecuteTime": {
     "end_time": "2022-04-04T02:05:06.715516Z",
     "start_time": "2022-04-04T02:05:06.711122Z"
    }
   },
   "source": [
    "## <font color=\"gray\"> 7.1 Baseline model </font>"
   ]
  },
  {
   "cell_type": "markdown",
   "id": "20335ed7",
   "metadata": {
    "ExecuteTime": {
     "end_time": "2022-04-04T02:05:06.715516Z",
     "start_time": "2022-04-04T02:05:06.711122Z"
    }
   },
   "source": [
    "## <font color=\"gray\"> 7.2 Logistic Regression </font>"
   ]
  },
  {
   "cell_type": "markdown",
   "id": "f01c1be1",
   "metadata": {
    "ExecuteTime": {
     "end_time": "2022-04-04T02:05:06.715516Z",
     "start_time": "2022-04-04T02:05:06.711122Z"
    }
   },
   "source": [
    "## <font color=\"gray\"> 7.3 Random Forest </font>"
   ]
  },
  {
   "cell_type": "markdown",
   "id": "6e98dbf9",
   "metadata": {
    "ExecuteTime": {
     "end_time": "2022-04-04T02:05:06.715516Z",
     "start_time": "2022-04-04T02:05:06.711122Z"
    }
   },
   "source": [
    "## <font color=\"gray\"> 7.4 XGBoost </font>"
   ]
  },
  {
   "cell_type": "markdown",
   "id": "2902866c",
   "metadata": {
    "ExecuteTime": {
     "end_time": "2022-04-04T02:05:06.715516Z",
     "start_time": "2022-04-04T02:05:06.711122Z"
    }
   },
   "source": [
    "## <font color=\"gray\"> 7.5 KNN </font>"
   ]
  },
  {
   "cell_type": "markdown",
   "id": "b9a521c7",
   "metadata": {},
   "source": [
    "Cross validation"
   ]
  },
  {
   "cell_type": "markdown",
   "id": "92160554",
   "metadata": {
    "ExecuteTime": {
     "end_time": "2022-04-04T02:15:14.271780Z",
     "start_time": "2022-04-04T02:15:14.269408Z"
    }
   },
   "source": [
    "# 8.0 Hyperparameter fine tuning"
   ]
  },
  {
   "cell_type": "code",
   "execution_count": null,
   "id": "4ac1c656",
   "metadata": {},
   "outputs": [],
   "source": []
  },
  {
   "cell_type": "markdown",
   "id": "e219211e",
   "metadata": {
    "ExecuteTime": {
     "end_time": "2022-04-04T02:05:06.715516Z",
     "start_time": "2022-04-04T02:05:06.711122Z"
    }
   },
   "source": [
    "## <font color=\"gray\"> 8.1 Random search </font>"
   ]
  },
  {
   "cell_type": "markdown",
   "id": "b5bc2949",
   "metadata": {
    "ExecuteTime": {
     "end_time": "2022-04-04T02:05:06.715516Z",
     "start_time": "2022-04-04T02:05:06.711122Z"
    }
   },
   "source": [
    "## <font color=\"gray\"> 8.2 Tuned final model </font>"
   ]
  },
  {
   "cell_type": "markdown",
   "id": "6b780fbb",
   "metadata": {
    "ExecuteTime": {
     "end_time": "2022-04-04T02:15:14.271780Z",
     "start_time": "2022-04-04T02:15:14.269408Z"
    }
   },
   "source": [
    "# 9.0 Error interpretation"
   ]
  },
  {
   "cell_type": "code",
   "execution_count": null,
   "id": "ec2c5524",
   "metadata": {},
   "outputs": [],
   "source": []
  },
  {
   "cell_type": "markdown",
   "id": "2ece977c",
   "metadata": {
    "ExecuteTime": {
     "end_time": "2022-04-04T02:05:06.715516Z",
     "start_time": "2022-04-04T02:05:06.711122Z"
    }
   },
   "source": [
    "## <font color=\"gray\"> 9.1 Main </font>"
   ]
  },
  {
   "cell_type": "markdown",
   "id": "c5a86e65",
   "metadata": {
    "ExecuteTime": {
     "end_time": "2022-04-04T02:15:14.271780Z",
     "start_time": "2022-04-04T02:15:14.269408Z"
    }
   },
   "source": [
    "# 10.0 Deploy"
   ]
  },
  {
   "cell_type": "markdown",
   "id": "d54a295f",
   "metadata": {
    "ExecuteTime": {
     "end_time": "2022-04-04T02:05:06.715516Z",
     "start_time": "2022-04-04T02:05:06.711122Z"
    }
   },
   "source": [
    "## <font color=\"gray\"> 10.1 Class data_prep.py </font>"
   ]
  },
  {
   "cell_type": "code",
   "execution_count": null,
   "id": "a51f006c",
   "metadata": {},
   "outputs": [],
   "source": []
  },
  {
   "cell_type": "code",
   "execution_count": null,
   "id": "6f43b860",
   "metadata": {},
   "outputs": [],
   "source": []
  },
  {
   "cell_type": "markdown",
   "id": "f4bc466d",
   "metadata": {
    "ExecuteTime": {
     "end_time": "2022-04-04T02:05:06.715516Z",
     "start_time": "2022-04-04T02:05:06.711122Z"
    }
   },
   "source": [
    "## <font color=\"gray\"> 10.2 API_handler.py </font>"
   ]
  },
  {
   "cell_type": "code",
   "execution_count": null,
   "id": "0ed287ec",
   "metadata": {},
   "outputs": [],
   "source": []
  },
  {
   "cell_type": "markdown",
   "id": "ebc9b771",
   "metadata": {
    "ExecuteTime": {
     "end_time": "2022-04-04T02:05:06.715516Z",
     "start_time": "2022-04-04T02:05:06.711122Z"
    }
   },
   "source": [
    "## <font color=\"gray\"> 10.3 API tester local </font>"
   ]
  },
  {
   "cell_type": "code",
   "execution_count": null,
   "id": "86faf62c",
   "metadata": {},
   "outputs": [],
   "source": []
  },
  {
   "cell_type": "markdown",
   "id": "e5556fa9",
   "metadata": {
    "ExecuteTime": {
     "end_time": "2022-04-04T02:05:06.715516Z",
     "start_time": "2022-04-04T02:05:06.711122Z"
    }
   },
   "source": [
    "## <font color=\"gray\"> 10.4 API tester remote/cloud </font>"
   ]
  },
  {
   "cell_type": "code",
   "execution_count": null,
   "id": "34fd42a0",
   "metadata": {},
   "outputs": [],
   "source": []
  }
 ],
 "metadata": {
  "kernelspec": {
   "display_name": "Python 3 (ipykernel)",
   "language": "python",
   "name": "python3"
  },
  "language_info": {
   "codemirror_mode": {
    "name": "ipython",
    "version": 3
   },
   "file_extension": ".py",
   "mimetype": "text/x-python",
   "name": "python",
   "nbconvert_exporter": "python",
   "pygments_lexer": "ipython3",
   "version": "3.8.0"
  },
  "toc": {
   "base_numbering": 1,
   "nav_menu": {},
   "number_sections": false,
   "sideBar": true,
   "skip_h1_title": false,
   "title_cell": "Table of Contents",
   "title_sidebar": "Contents",
   "toc_cell": false,
   "toc_position": {
    "height": "calc(100% - 180px)",
    "left": "10px",
    "top": "150px",
    "width": "438px"
   },
   "toc_section_display": true,
   "toc_window_display": true
  },
  "varInspector": {
   "cols": {
    "lenName": 16,
    "lenType": 16,
    "lenVar": 40
   },
   "kernels_config": {
    "python": {
     "delete_cmd_postfix": "",
     "delete_cmd_prefix": "del ",
     "library": "var_list.py",
     "varRefreshCmd": "print(var_dic_list())"
    },
    "r": {
     "delete_cmd_postfix": ") ",
     "delete_cmd_prefix": "rm(",
     "library": "var_list.r",
     "varRefreshCmd": "cat(var_dic_list()) "
    }
   },
   "types_to_exclude": [
    "module",
    "function",
    "builtin_function_or_method",
    "instance",
    "_Feature"
   ],
   "window_display": false
  }
 },
 "nbformat": 4,
 "nbformat_minor": 5
}
